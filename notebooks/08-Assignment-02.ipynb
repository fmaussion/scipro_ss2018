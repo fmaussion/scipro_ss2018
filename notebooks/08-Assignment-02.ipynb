{
 "cells": [
  {
   "cell_type": "markdown",
   "metadata": {},
   "source": [
    "# Assignment #02: using the standard library"
   ]
  },
  {
   "cell_type": "markdown",
   "metadata": {},
   "source": [
    "Today's exercises have to be done with help of the python standard library alone! No external module can be used."
   ]
  },
  {
   "cell_type": "markdown",
   "metadata": {},
   "source": [
    "## Exercise #02-01: cryptography for <s>dummies</s> Roman Emperors"
   ]
  },
  {
   "cell_type": "markdown",
   "metadata": {},
   "source": [
    "A very simple encryption technique is called the [Caesar cipher](http://en.wikipedia.org/wiki/Caesar_cipher). The basic idea is that each letter is replaced by a letter that is a certain number of letters away, so for example if the shift was 2, then A would become C, B would become D, and Z will become B.\n",
    "\n",
    "**A. Write a function that given a string and a shift, will produce the encrypted string for that shift**. The rules are:\n",
    "- you should accept lowercase and uppercase letters, and return letters of the same case\n",
    "- spaces or other punctuation characters should not be changed.\n",
    "\n",
    "There are several ways to reach this result. Just pick the one which makes more sense to you. Then, decrypt the following message, which was encrypted with a shift of 13:\n",
    "    \n",
    "    Pbatenghyngvbaf, lbh unir fhpprrqrq va qrpelcgvat gur fgevat.\n",
    "    \n",
    "**B. Now write a decoding script** which, when run in the linux or windows command line, prints the decoded phrase after asking the user to enter a phrase and a shift with which it was encrypted. Test your script on the sentence above. \n",
    "\n",
    "\n",
    "**C. Now try to decrypt this sentence, for which the shift is unknown**:\n",
    "    \n",
    "    Gwc uivioml bw nqvl bpm zqopb apqnb.\n",
    "    \n",
    "One way to solve this problem involves human decision, but another way can be fully automated (and implies more work). Pick the one you want!"
   ]
  },
  {
   "cell_type": "markdown",
   "metadata": {},
   "source": [
    "## Exercise #02-02: automated data download"
   ]
  },
  {
   "cell_type": "markdown",
   "metadata": {},
   "source": [
    "[SRTM](https://en.wikipedia.org/wiki/Shuttle_Radar_Topography_Mission) is a digital elevation model at ~90 m resolution covering almost the entire globe (up to $\\pm$ 60° latitude). The data is organized in 5°x5° tiles. To see a map of the tiles have a look at [this download page](http://srtm.csi.cgiar.org/SELECTION/inputCoord.asp). This tool is nice to use if you know which tile you want, but not very useful if you want more than one tile at different places of the globe.\n",
    "\n",
    "Fortunately, the entire dataset is available on this server: http://droppr.org/srtm/v4.1/6_5x5_TIFs (click on the link to display the data). The file naming convention is very simple:\n",
    "- the first two digits number gives the location of the tile in the longitudes (starting at 180° West)\n",
    "- the last two digits gives the location of the tile in the latitudes (starting at 60° North and going southwards)\n",
    "\n",
    "For example, here are some examples of locations and their associated tile:\n",
    "- (-179, 59) -> 'srtm_01_01.zip'\n",
    "- (-179, 51) -> 'srtm_01_02.zip'\n",
    "- (-174, 54) -> 'srtm_02_02.zip'\n",
    "\n",
    "And so forth.\n",
    "\n",
    "**A. Write a script which, given a longitude and a latitude as arguments, downloads the corresponding file** in the current directory. The function should raise an error when the given location is not valid. \n",
    "\n",
    "*Hints: define \"valid\" locations first: some are easy to catch, some cannot be caught automatically. Do we really have to deal with those?*\n",
    "\n",
    "**B.** Extend this script to be a bit more clever: **download the data file only if the file isn't already available in the current directory**.\n",
    "\n",
    "**C. Optional**: extend this script to be even more clever: given a range of longitudes and latitudes, it should download all the files convering this area. For example, the range 9°W to 18°W and 44°N to 47°N would download 6 files."
   ]
  },
  {
   "cell_type": "markdown",
   "metadata": {},
   "source": [
    "*Note 1: we will have a look at the data later in the course. But If you want to display them you can open them with the [qgis](https://www.qgis.org) software for example.*\n",
    "\n",
    "*Note 2: at the edge of the tiles (i.e. coordinates -175, 55) the problem might be not well defined because of accuracy errors (we will get back to these). You shouldn't care about this for now and try to get things right for everywhere but at the exact boundaries.*"
   ]
  },
  {
   "cell_type": "markdown",
   "metadata": {},
   "source": [
    "## Tips"
   ]
  },
  {
   "cell_type": "markdown",
   "metadata": {},
   "source": [
    "Both scripts are asking the user for an input, but in a different way:\n",
    "\n",
    "- **for #02-01**, I am asking you to make use of python's [input()](https://docs.python.org/3/library/functions.html#input) function, which asks the user to type in the command line.\n",
    "- **for #02-02**, I am asking you to use the script with [command line arguments](https://docs.python.org/3/tutorial/stdlib.html?highlight=sys%20argv#command-line-arguments).\n",
    "\n",
    "You'll find numerous examples online for both procedures. Both work fine with ipython and/or spyder. For example, here is my script call for the optional exercise #02-02-C:\n",
    "\n",
    "```\n",
    "%run download_srtm.py 9 44 18 47\n",
    "```\n"
   ]
  },
  {
   "cell_type": "markdown",
   "metadata": {},
   "source": [
    "*Back to the [table of contents](00-Introduction.ipynb#ctoc)*"
   ]
  }
 ],
 "metadata": {
  "hide_input": false,
  "kernelspec": {
   "display_name": "Python 3",
   "language": "python",
   "name": "python3"
  },
  "language_info": {
   "codemirror_mode": {
    "name": "ipython",
    "version": 3
   },
   "file_extension": ".py",
   "mimetype": "text/x-python",
   "name": "python",
   "nbconvert_exporter": "python",
   "pygments_lexer": "ipython3",
   "version": "3.5.2"
  },
  "toc": {
   "base_numbering": 1,
   "nav_menu": {},
   "number_sections": false,
   "sideBar": true,
   "skip_h1_title": false,
   "title_cell": "Table of Contents",
   "title_sidebar": "Contents",
   "toc_cell": false,
   "toc_position": {},
   "toc_section_display": "block",
   "toc_window_display": false
  }
 },
 "nbformat": 4,
 "nbformat_minor": 2
}
