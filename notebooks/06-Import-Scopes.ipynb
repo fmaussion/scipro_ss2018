{
 "cells": [
  {
   "cell_type": "markdown",
   "metadata": {},
   "source": [
    "# Modules, import mechanism, namespaces, scope(s)"
   ]
  },
  {
   "cell_type": "markdown",
   "metadata": {},
   "source": [
    "In this chapter we will dive into one of the best features of python: the ``import`` mechanism. But before we go on, I ask you to go through the [python tutorial section 6](https://docs.python.org/3/tutorial/modules.html).\n",
    "\n",
    "**Prerequisites**: you have read the [python tutorial](https://docs.python.org/3/tutorial/), sections 3 to 6. "
   ]
  },
  {
   "cell_type": "markdown",
   "metadata": {
    "toc": true
   },
   "source": [
    "<h1>Table of Contents<span class=\"tocSkip\"></span></h1>\n",
    "<div class=\"toc\"><ul class=\"toc-item\"><li><span><a href=\"#Modules,-import-mechanism,-namespaces,-scope(s)\" data-toc-modified-id=\"Modules,-import-mechanism,-namespaces,-scope(s)-6\"><span class=\"toc-item-num\">6&nbsp;&nbsp;</span>Modules, import mechanism, namespaces, scope(s)</a></span><ul class=\"toc-item\"><li><span><a href=\"#Variables-scopes\" data-toc-modified-id=\"Variables-scopes-6.1\"><span class=\"toc-item-num\">6.1&nbsp;&nbsp;</span>Variables scopes</a></span></li><li><span><a href=\"#Namespaces\" data-toc-modified-id=\"Namespaces-6.2\"><span class=\"toc-item-num\">6.2&nbsp;&nbsp;</span>Namespaces</a></span></li><li><span><a href=\"#PYTHONPATH\" data-toc-modified-id=\"PYTHONPATH-6.3\"><span class=\"toc-item-num\">6.3&nbsp;&nbsp;</span>PYTHONPATH</a></span></li><li><span><a href=\"#Take-home-points\" data-toc-modified-id=\"Take-home-points-6.4\"><span class=\"toc-item-num\">6.4&nbsp;&nbsp;</span>Take home points</a></span></li><li><span><a href=\"#What's-next?\" data-toc-modified-id=\"What's-next?-6.5\"><span class=\"toc-item-num\">6.5&nbsp;&nbsp;</span>What's next?</a></span></li></ul></li></ul></div>"
   ]
  },
  {
   "cell_type": "markdown",
   "metadata": {},
   "source": [
    "## Variables scopes"
   ]
  },
  {
   "cell_type": "markdown",
   "metadata": {},
   "source": [
    "The **scope** of a variable is the region of the program where the variable is valid: where the variable name can be used to refer to the entity. Let's consider this first example:"
   ]
  },
  {
   "cell_type": "code",
   "execution_count": null,
   "metadata": {},
   "outputs": [],
   "source": [
    "def foo():\n",
    "    i = 5\n",
    "    print(i, 'in foo()')\n",
    "\n",
    "print(i, 'global')"
   ]
  },
  {
   "cell_type": "markdown",
   "metadata": {},
   "source": [
    "It doesn't work because the name ``i`` is defined in the function which we defined but never called (nothing is printed), so the function's statements were actually never run. Let's see if the following example works better:"
   ]
  },
  {
   "cell_type": "code",
   "execution_count": null,
   "metadata": {},
   "outputs": [],
   "source": [
    "def foo():\n",
    "    i = 5\n",
    "    print(i, 'in foo()')\n",
    "\n",
    "foo()\n",
    "\n",
    "print(i, 'global')"
   ]
  },
  {
   "cell_type": "markdown",
   "metadata": {},
   "source": [
    "Here, the function is called and ``i`` is defined and equal to 5. However, the *scope* of i is the block defined by the function ``foo``: outside of this scope the variable doesn't exist anymore. If this is understood, the following example might now be clearer?"
   ]
  },
  {
   "cell_type": "code",
   "execution_count": null,
   "metadata": {},
   "outputs": [],
   "source": [
    "i = 1\n",
    "\n",
    "def foo():\n",
    "    i = 5\n",
    "    print(i, 'in foo()')\n",
    "\n",
    "print(i, 'global before foo()')\n",
    "\n",
    "foo()\n",
    "\n",
    "print(i, 'global after foo()')"
   ]
  },
  {
   "cell_type": "markdown",
   "metadata": {},
   "source": [
    "**global scope** refers to the highest scope level (the module or, in interactive mode, the interpreter. The function's scope in turn is called **local scope**. One says that the global scope prevails because what is possible in one direction isn't possible in the other:"
   ]
  },
  {
   "cell_type": "code",
   "execution_count": null,
   "metadata": {},
   "outputs": [],
   "source": [
    "k = 2\n",
    "\n",
    "def foo():\n",
    "    print(k, 'is there a k in foo()?')\n",
    "\n",
    "foo()"
   ]
  },
  {
   "cell_type": "markdown",
   "metadata": {},
   "source": [
    "Yes, there is. Global variables are available in the *nested* local scopes. They can be overridden locally (like in the example above), but this change won't be visible at the global scope level."
   ]
  },
  {
   "cell_type": "markdown",
   "metadata": {},
   "source": [
    "<img src=\"../img/logo_ex.png\" align=\"left\" style=\"width:1em; height:1em;\"> **Exercise**: do you think there is a way to really overwrite the value of a global variable from a local scope? If yes, can you find it?"
   ]
  },
  {
   "cell_type": "markdown",
   "metadata": {},
   "source": [
    "## Namespaces "
   ]
  },
  {
   "cell_type": "markdown",
   "metadata": {},
   "source": [
    "Global variables are useful, but they should be used with care. Indeed, since they are available in the entire script or module, the **namespace** can quickly become \"polluted\", i.e it is hard to keep track of which variable is available where, and in which order. This can become even more complicated when new modules with their own new variables and functions are used. \n",
    "\n",
    "Fortunately, the global scope is constrained to the current script or module, and using external modules is unlikely to cause confusion thanks to the ``import`` mechanism:"
   ]
  },
  {
   "cell_type": "code",
   "execution_count": null,
   "metadata": {},
   "outputs": [],
   "source": [
    "pi = 3.14\n",
    "import math\n",
    "print(math)\n",
    "print(pi, math.pi)"
   ]
  },
  {
   "cell_type": "markdown",
   "metadata": {},
   "source": [
    "By importing the ``math`` module (available in python's **standard library**), we have access to new variables and functions. What are they?"
   ]
  },
  {
   "cell_type": "code",
   "execution_count": null,
   "metadata": {},
   "outputs": [],
   "source": [
    "dir(math)"
   ]
  },
  {
   "cell_type": "markdown",
   "metadata": {},
   "source": [
    "<img src=\"../img/logo_ex.png\" align=\"left\" style=\"width:1em; height:1em;\"> **Exercise**: now ask the documentation what ``dir`` does (remember how? Simply type ``? dir`` in the ipython interpreter, or use g00gle)."
   ]
  },
  {
   "cell_type": "markdown",
   "metadata": {},
   "source": [
    "In the documentation we encountered a new concept (again!): **attributes**. We'll get back to them soon, but for now let's just observe that the list above contains the modules functions (like ``math.radians``) as well as variables (``math.nan``). Some of the attributes have a prefix of two underscores ``__``. We'll get back to them soon."
   ]
  },
  {
   "cell_type": "markdown",
   "metadata": {},
   "source": [
    "As you have learned in the tutorial, the four following pieces of code are equivalent:"
   ]
  },
  {
   "cell_type": "code",
   "execution_count": null,
   "metadata": {},
   "outputs": [],
   "source": [
    "# A\n",
    "import math\n",
    "math.sin(math.pi/2)"
   ]
  },
  {
   "cell_type": "code",
   "execution_count": null,
   "metadata": {},
   "outputs": [],
   "source": [
    "# B\n",
    "import math as ma\n",
    "ma.sin(ma.pi/2)"
   ]
  },
  {
   "cell_type": "code",
   "execution_count": null,
   "metadata": {},
   "outputs": [],
   "source": [
    "# C\n",
    "from math import sin, pi\n",
    "sin(pi/2)"
   ]
  },
  {
   "cell_type": "code",
   "execution_count": null,
   "metadata": {},
   "outputs": [],
   "source": [
    "# D\n",
    "from math import *\n",
    "sin(pi/2)"
   ]
  },
  {
   "cell_type": "markdown",
   "metadata": {},
   "source": [
    "Now, which one to use? It is up to you, but there are some implicit rules (conventions) which are widely accepted:\n",
    "  1. in case of doubt, use option A. It is the most readable and the most *explicit*\n",
    "  2. the exception to rule 1 is when the library your are using has a naming convention for its acronym. A good example is numpy, which [recommends](https://docs.scipy.org/doc/scipy/reference/tutorial/general.html) to use ``import numpy as np``\n",
    "  3. option C might be useful if the names you are importing are very explicit, and if you expect to use them often in your script. Otherwise, it is not recommended\n",
    "  4. option D is bad. Don't use it.\n",
    "  5. if you really want to, use option D. It happens to me too. But keep it for yourself or for the command line (in interactive mode), and don't give your code to other people."
   ]
  },
  {
   "cell_type": "markdown",
   "metadata": {},
   "source": [
    "<img src=\"../img/logo_ex.png\" align=\"left\" style=\"width:1em; height:1em;\"> **Exercise**: try to find arguments as to why is option D a bad idea."
   ]
  },
  {
   "cell_type": "markdown",
   "metadata": {},
   "source": [
    "## PYTHONPATH \n",
    "<a id='path'></a>"
   ]
  },
  {
   "cell_type": "markdown",
   "metadata": {},
   "source": [
    "But how does python know where to look for modules when you type in ``import mymodule``? Well, it relies on a mechanism very similar to linux's ``PATH`` environment variable. Remember this one? Within python, you can ask in which directories the interpreter will look for modules with [sys.path](https://docs.python.org/2/library/sys.html#sys.path):"
   ]
  },
  {
   "cell_type": "markdown",
   "metadata": {},
   "source": [
    "```python\n",
    "import sys\n",
    "sys.path\n",
    "\n",
    "['',\n",
    " '/scratch/c707/c7071047/miniconda3/bin',\n",
    " '/scratch/c707/c7071047/miniconda3/lib/python36.zip',\n",
    " '/scratch/c707/c7071047/miniconda3/lib/python3.6',\n",
    " '/scratch/c707/c7071047/miniconda3/lib/python3.6/lib-dynload',\n",
    " '/scratch/c707/c7071047/miniconda3/lib/python3.6/site-packages',\n",
    " '/scratch/c707/c7071047/miniconda3/lib/python3.6/site-packages/cycler-0.10.0-py3.6.egg',\n",
    " '/scratch/c707/c7071047/miniconda3/lib/python3.6/site-packages/IPython/extensions',\n",
    " '/home/c7071047/.ipython']\n",
    "```"
   ]
  },
  {
   "cell_type": "markdown",
   "metadata": {},
   "source": [
    "Similar to the linux ``PATH`` mechanism, python will look into each of these directories *in order*. The first directory is always the current working directory, the rest of the list may vary depending on your environment. When a file called ``mymodule.py`` is found, it is imported once (and only once) and added to the ``sys.modules`` variable, effectively telling python that the module has already been imported. This means that if you change the file and import it again, nothing will change. Fortunately, there are ways to avoid this behavior (see the next chapter)."
   ]
  },
  {
   "cell_type": "markdown",
   "metadata": {},
   "source": [
    "As you can see, there are many folders related to ``miniconda``, the tool we used to install python. This makes sense, because we want python to look for modules related to *our* installation of python. In particular, the ``site-packages`` folder is of interest to us. If you look into this folder (remember how?) you'll find the many packages we already installed together last week.\n",
    "\n",
    "You can edit ``sys.path`` at you wish and add new folders to it, exactly as you would with the ``PATH`` environment variable. In practice however it is recommended to use standard folders to install your packages (as we will see later in the lecture)"
   ]
  },
  {
   "cell_type": "markdown",
   "metadata": {},
   "source": [
    "<img src=\"../img/logo_ex.png\" align=\"left\" style=\"width:1em; height:1em;\"> **Exercise**: let's mess around with ``sys.path`` a little: create a fake module called ``matplotlib.py`` in your current working directory. Open a python interpreter and ``import matplotlib``. Which of the modules (the official or the fake one) is loaded? "
   ]
  },
  {
   "cell_type": "markdown",
   "metadata": {},
   "source": [
    "Because of this \"feature\", it is important to find meaningful (and unique) names for your own modules (don't forget to delete the fake ``matplotlib`` module!)."
   ]
  },
  {
   "cell_type": "markdown",
   "metadata": {},
   "source": [
    "*Note: the \"trick\" above does not work with modules of the standard library, because built-in modules are imported as part of the interpreter's startup process.*"
   ]
  },
  {
   "cell_type": "markdown",
   "metadata": {},
   "source": [
    "## Take home points"
   ]
  },
  {
   "cell_type": "markdown",
   "metadata": {},
   "source": [
    "- we learned that variables are defined in a **scope**, and we learned about two of them: **local** and **global** scope. There are certain rules as to how each scope can interact with the other.\n",
    "- the import mechanism is useful to avoid **namespace pollution**. Modules come with there own namespace, and it is recommended to keep each module's namespace clean (i.e. no ``from XYZ import *``)\n",
    "- python borrowed the ``PATH`` mechanism from linux and uses a similar logic to look for modules and packages. Installing a new module is therefore super easy: just put a ``mymodule.py`` at the right place. (and don't mess with the existing modules!)"
   ]
  },
  {
   "cell_type": "markdown",
   "metadata": {},
   "source": [
    "## What's next? "
   ]
  },
  {
   "cell_type": "markdown",
   "metadata": {},
   "source": [
    "Back to the [table of contents](00-Introduction.ipynb#ctoc), or [jump to the next chapter](07-Tips-and-Tricks.ipynb)."
   ]
  }
 ],
 "metadata": {
  "hide_input": false,
  "kernelspec": {
   "display_name": "Python 3",
   "language": "python",
   "name": "python3"
  },
  "language_info": {
   "codemirror_mode": {
    "name": "ipython",
    "version": 3
   },
   "file_extension": ".py",
   "mimetype": "text/x-python",
   "name": "python",
   "nbconvert_exporter": "python",
   "pygments_lexer": "ipython3",
   "version": "3.5.2"
  },
  "toc": {
   "base_numbering": "6",
   "nav_menu": {},
   "number_sections": true,
   "sideBar": true,
   "skip_h1_title": false,
   "title_cell": "Table of Contents",
   "title_sidebar": "Contents",
   "toc_cell": true,
   "toc_position": {
    "height": "calc(100% - 180px)",
    "left": "10px",
    "top": "150px",
    "width": "384px"
   },
   "toc_section_display": "block",
   "toc_window_display": true
  }
 },
 "nbformat": 4,
 "nbformat_minor": 2
}
