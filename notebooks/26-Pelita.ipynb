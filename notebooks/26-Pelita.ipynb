{
 "cells": [
  {
   "cell_type": "markdown",
   "metadata": {},
   "source": [
    "# Pelita: learning by gaming"
   ]
  },
  {
   "cell_type": "markdown",
   "metadata": {
    "toc": true
   },
   "source": [
    "<h1>Table of Contents<span class=\"tocSkip\"></span></h1>\n",
    "<div class=\"toc\"><ul class=\"toc-item\"><li><span><a href=\"#Pelita:-learning-by-gaming\" data-toc-modified-id=\"Pelita:-learning-by-gaming-26\"><span class=\"toc-item-num\">26&nbsp;&nbsp;</span>Pelita: learning by gaming</a></span><ul class=\"toc-item\"><li><span><a href=\"#The-pelita-contest\" data-toc-modified-id=\"The-pelita-contest-26.1\"><span class=\"toc-item-num\">26.1&nbsp;&nbsp;</span>The pelita contest</a></span></li><li><span><a href=\"#Objectives\" data-toc-modified-id=\"Objectives-26.2\"><span class=\"toc-item-num\">26.2&nbsp;&nbsp;</span>Objectives</a></span></li><li><span><a href=\"#Getting-started\" data-toc-modified-id=\"Getting-started-26.3\"><span class=\"toc-item-num\">26.3&nbsp;&nbsp;</span>Getting started</a></span></li><li><span><a href=\"#Gaining-speed\" data-toc-modified-id=\"Gaining-speed-26.4\"><span class=\"toc-item-num\">26.4&nbsp;&nbsp;</span>Gaining speed</a></span></li><li><span><a href=\"#Let's-do-a-little-bit-of-exploration-ourselves\" data-toc-modified-id=\"Let's-do-a-little-bit-of-exploration-ourselves-26.5\"><span class=\"toc-item-num\">26.5&nbsp;&nbsp;</span>Let's do a little bit of exploration ourselves</a></span><ul class=\"toc-item\"><li><span><a href=\"#Write-two-simple-players\" data-toc-modified-id=\"Write-two-simple-players-26.5.1\"><span class=\"toc-item-num\">26.5.1&nbsp;&nbsp;</span>Write two simple players</a></span></li><li><span><a href=\"#Define-a-maze-layout\" data-toc-modified-id=\"Define-a-maze-layout-26.5.2\"><span class=\"toc-item-num\">26.5.2&nbsp;&nbsp;</span>Define a maze layout</a></span></li><li><span><a href=\"#And-a-team\" data-toc-modified-id=\"And-a-team-26.5.3\"><span class=\"toc-item-num\">26.5.3&nbsp;&nbsp;</span>And a team</a></span></li><li><span><a href=\"#Explore\" data-toc-modified-id=\"Explore-26.5.4\"><span class=\"toc-item-num\">26.5.4&nbsp;&nbsp;</span>Explore</a></span></li><li><span><a href=\"#A-more-complex-maze\" data-toc-modified-id=\"A-more-complex-maze-26.5.5\"><span class=\"toc-item-num\">26.5.5&nbsp;&nbsp;</span>A more complex maze</a></span></li><li><span><a href=\"#A-more-aggressive-player\" data-toc-modified-id=\"A-more-aggressive-player-26.5.6\"><span class=\"toc-item-num\">26.5.6&nbsp;&nbsp;</span>A more aggressive player</a></span></li></ul></li><li><span><a href=\"#What's-next?\" data-toc-modified-id=\"What's-next?-26.6\"><span class=\"toc-item-num\">26.6&nbsp;&nbsp;</span>What's next?</a></span></li></ul></li></ul></div>"
   ]
  },
  {
   "cell_type": "markdown",
   "metadata": {},
   "source": [
    "## The pelita contest"
   ]
  },
  {
   "cell_type": "markdown",
   "metadata": {},
   "source": [
    "[Pelita](https://aspp.github.io/pelita/index.html) is an \"Actor-based Toolkit for Interactive Language Education in Python\". The game was created for an [Advanced Scientific Python summer school](https://python.g-node.org/wiki/), and we are going to use it as well.\n",
    "\n",
    "Download and have a look at the [presentation](https://python.g-node.org/python-summerschool-2017/_media/pelita_2017.pdf) from last year to get you in the mood.\n",
    "\n",
    "The rules are simple: you work in a team, and send me your players before the contest (the exact date will be announced via OLAT). The last day of the lecture we will see the bots compete and let the best team win!"
   ]
  },
  {
   "cell_type": "markdown",
   "metadata": {},
   "source": [
    "## Objectives "
   ]
  },
  {
   "cell_type": "markdown",
   "metadata": {},
   "source": [
    "**Your final grade will not be based on the outcome of the contest**: it will be based on **code quality, clarity, and originality**. The specific objectives of this exercise are:\n",
    "- to learn how to introspect and use a large codebase for your purpose: writing a player\n",
    "- to apply the concepts learned during the lecture: organize your code in clear modules and packages, use object oriented concepts, and write tests!\n",
    "- to define development strategies in a team\n",
    "- to have fun!\n",
    "\n",
    "As you are going to see, it is possible to write simple to (very) complex strategies for your players. You should not try to develop the \"best\" strategy from scratch but rather advance in smaller steps. Also, you should know when to stop: I don't expect you to create the best players ever, nor do I expect you to spend all your time on this. Try to avoid bugs, try to develop simple but clever players, and have fun!"
   ]
  },
  {
   "cell_type": "markdown",
   "metadata": {},
   "source": [
    "## Getting started"
   ]
  },
  {
   "cell_type": "markdown",
   "metadata": {},
   "source": [
    "Download the pelita package from the [official repository](https://github.com/ASPP/pelita). Unzip the package and install it with ``pip install -e /path/to/package`` (don't forget the ``--user`` if you are on a university computer).\n",
    "\n",
    "run your first game with a simple call to ``$ pelita``!\n",
    "\n",
    "**To write your own players, download the template available** [here](https://github.com/ASPP/pelita-player-2018-melbourne). Unpack it and follow the instructions:\n",
    "- run ``$ make test`` to test the template.\n",
    "- run ``$ make`` for a quick game against a random team\n",
    "\n",
    "For more control, use ``pelita`` as indicated by its documentation. For example, to run a game against a predefined team:\n",
    "\n",
    "``$ pelita team/ SmartEatingPlayer``\n",
    "    \n",
    "To run a game against yourself:\n",
    "\n",
    "``$ pelita team/ team/``"
   ]
  },
  {
   "cell_type": "markdown",
   "metadata": {},
   "source": [
    "## Gaining speed "
   ]
  },
  {
   "cell_type": "markdown",
   "metadata": {},
   "source": [
    "The best way to get started is to have a look at the documentation about [writing a player](https://aspp.github.io/pelita/writing_player.html) and [running & debugging](https://aspp.github.io/pelita/running_player.html).\n",
    "\n",
    "You can test different simple strategies by having a look at the  demo players that you will find in the ``pelita/pelita/player/`` folder.\n",
    "\n",
    "All this, however, might still leave you a little confused: take your time and don't rush into coding right away. The test environment available in the template package and therefore runnable from spyder or pycharm is probably the best way to explore the tools available to you."
   ]
  },
  {
   "cell_type": "markdown",
   "metadata": {},
   "source": [
    "## Let's do a little bit of exploration ourselves "
   ]
  },
  {
   "cell_type": "markdown",
   "metadata": {},
   "source": [
    "### Write two simple players "
   ]
  },
  {
   "cell_type": "code",
   "execution_count": null,
   "metadata": {},
   "outputs": [],
   "source": [
    "from pelita import datamodel\n",
    "from pelita.graph import Graph, NoPathException, diff_pos\n",
    "from pelita.player import AbstractPlayer\n",
    "\n",
    "\n",
    "class FastEatingPlayer(AbstractPlayer):\n",
    "    \"\"\"Like SmartEatingPlayer but without taking enemies into \n",
    "    account and seeking the closest food (always).\"\"\"\n",
    "\n",
    "    def set_initial(self):\n",
    "\n",
    "        # This is called only once \\t the beginning of the game\n",
    "        # A graph is useful to help you find your way in the maze\n",
    "        self.graph = Graph(self.current_uni.reachable([self.initial_pos]))\n",
    "\n",
    "    def goto_pos(self, pos):\n",
    "\n",
    "        # Next move to go to the desired position(s)\n",
    "        return self.graph.bfs(self.current_pos, pos)[-1]\n",
    "\n",
    "    def get_move(self):\n",
    "\n",
    "        # Check the move towards the closest enemy food\n",
    "        try:\n",
    "            next_pos = self.goto_pos(self.enemy_food)\n",
    "            move = diff_pos(self.current_pos, next_pos)\n",
    "        except NoPathException:\n",
    "            move = datamodel.stop\n",
    "\n",
    "        # Check that it is one of all possible moves, else random\n",
    "        if move in self.legal_moves:\n",
    "            return move\n",
    "        else:\n",
    "            return self.rnd.choice(list(self.legal_moves.keys()))\n",
    "\n",
    "\n",
    "class StoppingPlayer(AbstractPlayer):\n",
    "    def get_move(self):\n",
    "        return datamodel.stop"
   ]
  },
  {
   "cell_type": "markdown",
   "metadata": {},
   "source": [
    "### Define a maze layout "
   ]
  },
  {
   "cell_type": "markdown",
   "metadata": {},
   "source": [
    "Mazes can be provided by the user using a simple ascii layout. Walls are represented by ``#``, food pellets with dots, and players by their number (0 and 2 belong to team 1, 1 and 3 to team 2). Here I defined a maze made to test the behavior of the players of team 1 (left hand side), and add one food pellet on the left hand side too (this is needed for the game to be valid):"
   ]
  },
  {
   "cell_type": "code",
   "execution_count": null,
   "metadata": {},
   "outputs": [],
   "source": [
    "test_layout = (\n",
    "    \"\"\" ##############################################################\n",
    "        #0                                   .                      1#\n",
    "        #                                    .                       #\n",
    "        #                                    .                       #\n",
    "        #                                    .                       #\n",
    "        #      .                             .                       #\n",
    "        #                                    .                       #\n",
    "        #                                    .                       #\n",
    "        #                                    ........................#\n",
    "        #2                                                          3#\n",
    "        ##############################################################\n",
    "     \"\"\"\n",
    ")"
   ]
  },
  {
   "cell_type": "markdown",
   "metadata": {},
   "source": [
    "### And a team "
   ]
  },
  {
   "cell_type": "code",
   "execution_count": null,
   "metadata": {},
   "outputs": [],
   "source": [
    "from pelita.game_master import GameMaster\n",
    "from pelita.player import SimpleTeam\n",
    "\n",
    "# Make the team\n",
    "player_0 = FastEatingPlayer()\n",
    "player_1 = StoppingPlayer()\n",
    "player_2 = StoppingPlayer()\n",
    "player_3 = StoppingPlayer()\n",
    "teams = [\n",
    "    SimpleTeam('One', player_0, player_2),\n",
    "    SimpleTeam('Two', player_1, player_3)\n",
    "]\n",
    "\n",
    "# Start the game\n",
    "game_master = GameMaster(test_layout, teams, 4, 300)\n",
    "game_master.set_initial()"
   ]
  },
  {
   "cell_type": "markdown",
   "metadata": {},
   "source": [
    "### Explore "
   ]
  },
  {
   "cell_type": "markdown",
   "metadata": {},
   "source": [
    "Now we are ready to see what is happening. Lets see the state of the universe before and after a round:"
   ]
  },
  {
   "cell_type": "code",
   "execution_count": null,
   "metadata": {},
   "outputs": [],
   "source": [
    "print(game_master.universe.pretty)"
   ]
  },
  {
   "cell_type": "code",
   "execution_count": null,
   "metadata": {},
   "outputs": [],
   "source": [
    "game_master.play_round()"
   ]
  },
  {
   "cell_type": "code",
   "execution_count": null,
   "metadata": {},
   "outputs": [],
   "source": [
    "print(game_master.universe.pretty)"
   ]
  },
  {
   "cell_type": "markdown",
   "metadata": {},
   "source": [
    "Our player moved one step. What exacly is our player seeing from here?\n",
    "\n",
    "For example, the player sees the locations of the enemy food:"
   ]
  },
  {
   "cell_type": "code",
   "execution_count": null,
   "metadata": {},
   "outputs": [],
   "source": [
    "player_0.enemy_food"
   ]
  },
  {
   "cell_type": "markdown",
   "metadata": {},
   "source": [
    "The player also knows the (noisy) position of the enemy bots:"
   ]
  },
  {
   "cell_type": "code",
   "execution_count": null,
   "metadata": {},
   "outputs": [],
   "source": [
    "player_0.enemy_bots"
   ]
  },
  {
   "cell_type": "markdown",
   "metadata": {},
   "source": [
    "You can verify that it is noisy by checking that on the next round the positions might change although the players didn't move:"
   ]
  },
  {
   "cell_type": "code",
   "execution_count": null,
   "metadata": {},
   "outputs": [],
   "source": [
    "game_master.play_round()"
   ]
  },
  {
   "cell_type": "code",
   "execution_count": null,
   "metadata": {},
   "outputs": [],
   "source": [
    "player_0.enemy_bots"
   ]
  },
  {
   "cell_type": "code",
   "execution_count": null,
   "metadata": {},
   "outputs": [],
   "source": [
    "print(game_master.universe.pretty)"
   ]
  },
  {
   "cell_type": "markdown",
   "metadata": {},
   "source": [
    "What is the graph actually useful for? Let's find out:"
   ]
  },
  {
   "cell_type": "code",
   "execution_count": null,
   "metadata": {},
   "outputs": [],
   "source": [
    "path = player_0.graph.bfs(player_0.current_pos, player_0.enemy_food)\n",
    "path"
   ]
  },
  {
   "cell_type": "markdown",
   "metadata": {},
   "source": [
    "This gives us the shortest path towards all enemy food! Taking the last one gives us the next position we'd like to go:"
   ]
  },
  {
   "cell_type": "code",
   "execution_count": null,
   "metadata": {},
   "outputs": [],
   "source": [
    "next_pos = path[-1]\n",
    "move = diff_pos(player_0.current_pos, next_pos)\n",
    "move"
   ]
  },
  {
   "cell_type": "code",
   "execution_count": null,
   "metadata": {},
   "outputs": [],
   "source": [
    "# east, west, north, south are nothing more than direction tuples\n",
    "assert move == datamodel.east\n",
    "# shoule be a legal move\n",
    "assert move in player_0.legal_moves"
   ]
  },
  {
   "cell_type": "markdown",
   "metadata": {},
   "source": [
    "### A more complex maze "
   ]
  },
  {
   "cell_type": "code",
   "execution_count": null,
   "metadata": {},
   "outputs": [],
   "source": [
    "test_layout = (\n",
    "    \"\"\" ##############################################################\n",
    "        #0                 ##                .                      1#\n",
    "        #                  ## ##             .                       #\n",
    "        #                   #  #             .                       #\n",
    "        #                   #  #             .                       #\n",
    "        #      .            #  #             .                       #\n",
    "        #                   #  #             .                       #\n",
    "        #                   #  #             .                       #\n",
    "        #                   #  #             ........................#\n",
    "        #2                     #                                    3#\n",
    "        ##############################################################\n",
    "     \"\"\"\n",
    ")"
   ]
  },
  {
   "cell_type": "code",
   "execution_count": null,
   "metadata": {},
   "outputs": [],
   "source": [
    "# Start the game\n",
    "game_master = GameMaster(test_layout, teams, 4, 300)\n",
    "universe = game_master.universe\n",
    "game_master.set_initial()"
   ]
  },
  {
   "cell_type": "markdown",
   "metadata": {},
   "source": [
    "Will our bot find its way through it?"
   ]
  },
  {
   "cell_type": "code",
   "execution_count": null,
   "metadata": {},
   "outputs": [],
   "source": [
    "for _ in range(30):\n",
    "    game_master.play_round()"
   ]
  },
  {
   "cell_type": "code",
   "execution_count": null,
   "metadata": {},
   "outputs": [],
   "source": [
    "print(game_master.universe.pretty)"
   ]
  },
  {
   "cell_type": "markdown",
   "metadata": {},
   "source": [
    "Looks like it! Let the game run until the end:"
   ]
  },
  {
   "cell_type": "code",
   "execution_count": null,
   "metadata": {},
   "outputs": [],
   "source": [
    "game_master.play()"
   ]
  },
  {
   "cell_type": "code",
   "execution_count": null,
   "metadata": {},
   "outputs": [],
   "source": [
    "print(game_master.universe.pretty)"
   ]
  },
  {
   "cell_type": "markdown",
   "metadata": {},
   "source": [
    "### A more aggressive player "
   ]
  },
  {
   "cell_type": "markdown",
   "metadata": {},
   "source": [
    "Let's make the opponent team a little more active:"
   ]
  },
  {
   "cell_type": "code",
   "execution_count": null,
   "metadata": {},
   "outputs": [],
   "source": [
    "from pelita.graph import manhattan_dist\n",
    "import numpy as np\n",
    "\n",
    "class AggressivePlayer(AbstractPlayer):\n",
    "\n",
    "    def set_initial(self):\n",
    "        self.graph = Graph(self.current_uni.reachable([self.initial_pos]))\n",
    "\n",
    "    def goto_pos(self, pos):\n",
    "        return self.graph.a_star(self.current_pos, pos)[-1]\n",
    "\n",
    "    def get_move(self):\n",
    "        \n",
    "        # Take the closest enemy\n",
    "        dis = []\n",
    "        for enemy in self.enemy_bots:\n",
    "            dis.append(manhattan_dist(self.current_pos, enemy.current_pos))\n",
    "        enemy = self.enemy_bots[np.argmin(dis)]\n",
    "\n",
    "        try:\n",
    "            next_pos = self.goto_pos(enemy.current_pos)\n",
    "            # Check if the next_pos is on the wrong side of the maze\n",
    "            if not self.team.in_zone(next_pos):\n",
    "                # whoops, better not move\n",
    "                move = datamodel.stop\n",
    "            else:\n",
    "                move = diff_pos(self.current_pos, next_pos)\n",
    "            # Check that it is one of all possible moves, else stop\n",
    "            if move in self.legal_moves:\n",
    "                return move\n",
    "            else:\n",
    "                return datamodel.stop\n",
    "        except NoPathException:\n",
    "            return datamodel.stop"
   ]
  },
  {
   "cell_type": "code",
   "execution_count": null,
   "metadata": {},
   "outputs": [],
   "source": [
    "# Make the team\n",
    "player_0 = FastEatingPlayer()\n",
    "player_1 = StoppingPlayer()\n",
    "player_2 = StoppingPlayer()\n",
    "player_3 = AggressivePlayer()\n",
    "teams = [\n",
    "    SimpleTeam('One', player_0, player_2),\n",
    "    SimpleTeam('Two', player_1, player_3)\n",
    "]\n",
    "\n",
    "# Start the game\n",
    "game_master = GameMaster(test_layout, teams, 4, 300)\n",
    "universe = game_master.universe\n",
    "game_master.set_initial()"
   ]
  },
  {
   "cell_type": "markdown",
   "metadata": {},
   "source": [
    "But stalking enemies is dangerous! See what happens in this game:"
   ]
  },
  {
   "cell_type": "code",
   "execution_count": null,
   "metadata": {},
   "outputs": [],
   "source": [
    "for _ in range(40):\n",
    "    game_master.play_round()\n",
    "print(game_master.universe.pretty)"
   ]
  },
  {
   "cell_type": "code",
   "execution_count": null,
   "metadata": {},
   "outputs": [],
   "source": [
    "for _ in range(8):\n",
    "    game_master.play_round()\n",
    "print(game_master.universe.pretty)"
   ]
  },
  {
   "cell_type": "code",
   "execution_count": null,
   "metadata": {},
   "outputs": [],
   "source": [
    "for _ in range(8):\n",
    "    game_master.play_round()\n",
    "print(game_master.universe.pretty)"
   ]
  },
  {
   "cell_type": "markdown",
   "metadata": {},
   "source": [
    "**The bot will never be able to catch it!** Having completely deterministic moves might be contra-productive sometimes."
   ]
  },
  {
   "cell_type": "markdown",
   "metadata": {},
   "source": [
    "## What's next? "
   ]
  },
  {
   "cell_type": "markdown",
   "metadata": {},
   "source": [
    "Now it's your turn! Try to use these players in real games to visualize the outcome, and start to define new strategies! The game designers write in their presentation:\n",
    "- Mazes don’t have dead-ends\n",
    "- It's hard to catch another bot which outruns you: bots can combine their powers and attack from two sides\n",
    "- Think about shortest-path algorithms\n",
    "- Keep track of opponents\n",
    "- Investigate communication between the Players\n",
    "- Re-use your code\n",
    "- Think about working in a team"
   ]
  },
  {
   "cell_type": "markdown",
   "metadata": {},
   "source": [
    "Back to the [table of contents](00-Introduction.ipynb#ctoc)."
   ]
  }
 ],
 "metadata": {
  "hide_input": false,
  "kernelspec": {
   "display_name": "Python 3",
   "language": "python",
   "name": "python3"
  },
  "language_info": {
   "codemirror_mode": {
    "name": "ipython",
    "version": 3
   },
   "file_extension": ".py",
   "mimetype": "text/x-python",
   "name": "python",
   "nbconvert_exporter": "python",
   "pygments_lexer": "ipython3",
   "version": "3.5.2"
  },
  "toc": {
   "base_numbering": "26",
   "nav_menu": {},
   "number_sections": true,
   "sideBar": true,
   "skip_h1_title": false,
   "title_cell": "Table of Contents",
   "title_sidebar": "Contents",
   "toc_cell": true,
   "toc_position": {
    "height": "750px",
    "left": "29px",
    "top": "111px",
    "width": "345px"
   },
   "toc_section_display": true,
   "toc_window_display": true
  }
 },
 "nbformat": 4,
 "nbformat_minor": 2
}
