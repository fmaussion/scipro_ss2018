{
 "cells": [
  {
   "cell_type": "markdown",
   "metadata": {},
   "source": [
    "# Object Oriented Programming: why?"
   ]
  },
  {
   "cell_type": "markdown",
   "metadata": {},
   "source": [
    "In the first OOP unit you learned the basic semantics of OOP in python. This week we will attempt to provide concrete examples of the use of objects in python (and other OOP languages) and provide arguments in favor and against the use of OOP in python."
   ]
  },
  {
   "cell_type": "markdown",
   "metadata": {
    "toc": true
   },
   "source": [
    "<h1>Table of Contents<span class=\"tocSkip\"></span></h1>\n",
    "<div class=\"toc\"><ul class=\"toc-item\"><li><span><a href=\"#Object-Oriented-Programming:-why?\" data-toc-modified-id=\"Object-Oriented-Programming:-why?-25\"><span class=\"toc-item-num\">25&nbsp;&nbsp;</span>Object Oriented Programming: why?</a></span><ul class=\"toc-item\"><li><span><a href=\"#Introduction\" data-toc-modified-id=\"Introduction-25.1\"><span class=\"toc-item-num\">25.1&nbsp;&nbsp;</span>Introduction</a></span></li><li><span><a href=\"#Abstraction\" data-toc-modified-id=\"Abstraction-25.2\"><span class=\"toc-item-num\">25.2&nbsp;&nbsp;</span>Abstraction</a></span></li><li><span><a href=\"#Encapsulation\" data-toc-modified-id=\"Encapsulation-25.3\"><span class=\"toc-item-num\">25.3&nbsp;&nbsp;</span>Encapsulation</a></span></li><li><span><a href=\"#Modularity\" data-toc-modified-id=\"Modularity-25.4\"><span class=\"toc-item-num\">25.4&nbsp;&nbsp;</span>Modularity</a></span></li><li><span><a href=\"#Polymorphism\" data-toc-modified-id=\"Polymorphism-25.5\"><span class=\"toc-item-num\">25.5&nbsp;&nbsp;</span>Polymorphism</a></span></li><li><span><a href=\"#Inheritance\" data-toc-modified-id=\"Inheritance-25.6\"><span class=\"toc-item-num\">25.6&nbsp;&nbsp;</span>Inheritance</a></span></li><li><span><a href=\"#Take-home-points\" data-toc-modified-id=\"Take-home-points-25.7\"><span class=\"toc-item-num\">25.7&nbsp;&nbsp;</span>Take home points</a></span></li><li><span><a href=\"#What's-next?\" data-toc-modified-id=\"What's-next?-25.8\"><span class=\"toc-item-num\">25.8&nbsp;&nbsp;</span>What's next?</a></span></li></ul></li></ul></div>"
   ]
  },
  {
   "cell_type": "markdown",
   "metadata": {},
   "source": [
    "## Introduction"
   ]
  },
  {
   "cell_type": "markdown",
   "metadata": {},
   "source": [
    "OOP is a tool that, when used wisely, can help you to structure your programs in a way which might be more readable, easier to maintain and more flexible than purely procedural programs. But why is that so? In this class we will provide examples for five core concepts of OOP: \n",
    "- abstraction\n",
    "- encapsulation\n",
    "- modularity \n",
    "- polymorphism \n",
    "- inheritance"
   ]
  },
  {
   "cell_type": "markdown",
   "metadata": {},
   "source": [
    "## Abstraction"
   ]
  },
  {
   "cell_type": "markdown",
   "metadata": {},
   "source": [
    "Data abstraction refers to the separation between the abstract properties of an object and its internal representation.  By giving a name to things and hiding unnecessary details from the user, objects provide an intuitive interface to concepts which might be extremely complex internally.\n",
    "\n",
    "Going back to our examples from last week: we used the term \"objects\" in programming as surrogate for actual \"objects\" in the real world: a cat, a pen, a car... These objects have a \"state\" (in OOP: attributes) and realize actions (in OOP: methods). For a pen, the attributes could be: the color of the ink, the volume of remaining ink, the size of the point, etc. The actions (methods) could be: write(), fill_ink(), etc.\n",
    "\n",
    "Leaving the real world and entering the programming world: if a concept in your program is easily describable in terms of \"state\" and \"actions\", it might be a good candidate for writing a class.\n",
    "\n",
    "Taking a widely used object in Python: an instance of the class string: "
   ]
  },
  {
   "cell_type": "code",
   "execution_count": null,
   "metadata": {},
   "outputs": [],
   "source": [
    "a = 'hello!'"
   ]
  },
  {
   "cell_type": "markdown",
   "metadata": {},
   "source": [
    "The \"state\" of our object is relatively simple to describe: it is the sentence (list of characters) stored in the object. We have access to this state (we can print its values) but the way these values are stored in memory is abstracted away. We don't care about the details, we just want a string. Now, a string provides many actions: "
   ]
  },
  {
   "cell_type": "code",
   "execution_count": null,
   "metadata": {},
   "outputs": [],
   "source": [
    "a.capitalize()"
   ]
  },
  {
   "cell_type": "code",
   "execution_count": null,
   "metadata": {},
   "outputs": [],
   "source": [
    "a.capitalize().istitle()"
   ]
  },
  {
   "cell_type": "code",
   "execution_count": null,
   "metadata": {},
   "outputs": [],
   "source": [
    "a.split('l')"
   ]
  },
  {
   "cell_type": "markdown",
   "metadata": {},
   "source": [
    "Abstractions should be as simple and well defined as possible. Sometimes there is more than one possible way to provide an abstraction to the user, and it becomes a debate among the programmers of a project whether these abstractions are useful or not.\n",
    "\n",
    "Well defined abstractions can be *composed* together. A good example is provided by the [xarray](http://xarray.pydata.org) library: an ``xarray.DataSet`` is composed of several ``xarray.DataArray`` objects. These ``xarray.DataArray`` objects have the function to store data (a ``numpy.ndarray`` object) together with coordinates (other ``numpy.ndarray`` objects) and attributes (units, name, etc.). This chain of abstractions is possible only if each of these concepts has a clearly defined role: xarray does not mess around with numbers in arrays: numpy does. Inversely, numpy does not care whether an array has coordinates or not: xarray does."
   ]
  },
  {
   "cell_type": "markdown",
   "metadata": {},
   "source": [
    "## Encapsulation "
   ]
  },
  {
   "cell_type": "markdown",
   "metadata": {},
   "source": [
    "Encapsulation is tied to the concepts of abstraction. By hiding the internal implementation of a class behind a defined interface, users of the class do not need to know details about the internals of the class to use it. The implementation of the class can be changed (or internal data can be modified) without having to change the code of the users of the class.\n",
    "\n",
    "In python, encapsulation is more difficult than in other languages like Java. Indeed, Java implements the concept of **private methods and attributes**, which are hidden from the user per definition. In python, *nothing* is hidden from the user: however, developers make use of *conventions* to inform the users that a method or attribute is not meant to be used by the class alone, not by users. Let's take an xarray DataArray as an example:"
   ]
  },
  {
   "cell_type": "code",
   "execution_count": null,
   "metadata": {},
   "outputs": [],
   "source": [
    "import xarray as xr\n",
    "import numpy as np\n",
    "da = xr.DataArray([1, 2, 3])"
   ]
  },
  {
   "cell_type": "code",
   "execution_count": null,
   "metadata": {},
   "outputs": [],
   "source": [
    "np.array(dir(da))  # we use np.array to prevent lengthy print"
   ]
  },
  {
   "cell_type": "markdown",
   "metadata": {},
   "source": [
    "In this long list of methods and attributes, some of them are available and documented. For example:"
   ]
  },
  {
   "cell_type": "code",
   "execution_count": null,
   "metadata": {},
   "outputs": [],
   "source": [
    "da.values"
   ]
  },
  {
   "cell_type": "markdown",
   "metadata": {},
   "source": [
    "Other methods/attributes start with **one underscore**. This underscore has no special meaning in the Python language other than a warning to the users: \"if you use this method/attribute, do it at your own risk\". For example:"
   ]
  },
  {
   "cell_type": "code",
   "execution_count": null,
   "metadata": {},
   "outputs": [],
   "source": [
    "da._in_memory"
   ]
  },
  {
   "cell_type": "markdown",
   "metadata": {},
   "source": [
    "``_in_memory`` is an attribute which is meant for internal use in the class (it is called **private**). Setting it to another value might have unpredictable consequences, and relying on it for your own code is not recommended: the xarray developers might rename it or change it without notice. "
   ]
  },
  {
   "cell_type": "markdown",
   "metadata": {},
   "source": [
    "The methods having **two trailing and leading underscores have a special meaning in Python and are part of the language specifications**. We already encountered ``__init__`` for our class instantiation, and we will talk about the others later in this chapter."
   ]
  },
  {
   "cell_type": "markdown",
   "metadata": {},
   "source": [
    "## Modularity "
   ]
  },
  {
   "cell_type": "markdown",
   "metadata": {},
   "source": [
    "Modularity is a technique to separate different portions of the program (modules) based on some logical boundary. Modularity is a general principle in programming, although object-oriented programming typically makes it more explicit. Taking the example of ``xarray.DataArray`` and ``numpy.Array``: both classes have very clear domains of functionality. The latter shines at doing fast numerical computations on arrays, the former provides an intuitive abstraction to the internal arrays by giving names and coordinates to its axes."
   ]
  },
  {
   "cell_type": "markdown",
   "metadata": {},
   "source": [
    "## Polymorphism"
   ]
  },
  {
   "cell_type": "markdown",
   "metadata": {},
   "source": [
    "Polymorphism represents the technique of creating multiple classes that obey the same interface. Objects from these classes can then be mixed at runtime. In other words, polymorphism originates from the fact that a certain action can have well defined but different meanings depending on the objects they apply to.\n",
    "\n",
    "An example of polymorphism is provided by the addition in python:"
   ]
  },
  {
   "cell_type": "code",
   "execution_count": null,
   "metadata": {},
   "outputs": [],
   "source": [
    "1 + 1"
   ]
  },
  {
   "cell_type": "code",
   "execution_count": null,
   "metadata": {},
   "outputs": [],
   "source": [
    "1 + 1.2"
   ]
  },
  {
   "cell_type": "code",
   "execution_count": null,
   "metadata": {},
   "outputs": [],
   "source": [
    "[1, 2] + [3, 4]"
   ]
  },
  {
   "cell_type": "code",
   "execution_count": null,
   "metadata": {},
   "outputs": [],
   "source": [
    "np.array([1, 2]) + [3, 4]"
   ]
  },
  {
   "cell_type": "markdown",
   "metadata": {},
   "source": [
    "Each of these addition operations are performing a different action depending on the object they are applied to. OOP relies on polymorphism to provide higher levels of abstraction. In our ``Cat`` and ``Dog`` example from last week, both classes provided a ``say_name()`` method: the internal implementation, however, was different in each case.\n",
    "\n",
    "Many OOP languages (including Python) provide powerful tools for the purpose of polymorphism. One of them is **operator overloading**:"
   ]
  },
  {
   "cell_type": "code",
   "execution_count": null,
   "metadata": {},
   "outputs": [],
   "source": [
    "class ArrayList(list):\n",
    "    def __add__(self, other):\n",
    "        \"\"\"Don't do this at home!\"\"\"\n",
    "        return [a + b for a, b in zip(self, other)]"
   ]
  },
  {
   "cell_type": "markdown",
   "metadata": {},
   "source": [
    "What did we just do? The class definition (``class ArrayList(list)``) indicates that we created a subclass of the parent class ``list``, a well known data type in python. Our child class has all the attributes and methods of the original parent class:"
   ]
  },
  {
   "cell_type": "code",
   "execution_count": null,
   "metadata": {},
   "outputs": [],
   "source": [
    "a = ArrayList([1, 2, 3])"
   ]
  },
  {
   "cell_type": "code",
   "execution_count": null,
   "metadata": {},
   "outputs": [],
   "source": [
    "len(a)"
   ]
  },
  {
   "cell_type": "markdown",
   "metadata": {},
   "source": [
    "Now, we defined a method ``__add__``, which allows us to do some python magic: ``__add__`` is the method which is actually called when two objects are added together. This means that the two statements below are totally equivalent:"
   ]
  },
  {
   "cell_type": "code",
   "execution_count": null,
   "metadata": {},
   "outputs": [],
   "source": [
    "[1] + [2]"
   ]
  },
  {
   "cell_type": "code",
   "execution_count": null,
   "metadata": {},
   "outputs": [],
   "source": [
    "[1].__add__([2])"
   ]
  },
  {
   "cell_type": "markdown",
   "metadata": {},
   "source": [
    "Now, what does that mean for the addition on our ``ArrayList`` class? Let's try and find out:"
   ]
  },
  {
   "cell_type": "code",
   "execution_count": null,
   "metadata": {},
   "outputs": [],
   "source": [
    "a + [11, 12, 13]"
   ]
  },
  {
   "cell_type": "markdown",
   "metadata": {},
   "source": [
    "We just defined a new way to realize additions on lists! This is a very powerful mechanism, but comes with great responsibility: it should be used with caution and only for very clear use cases. A prominent example is provided by numpy: by implementing the ``__add__`` method on ndarray objects, they provide a new functionality which is hidden from the user but intuitive at the same time, avoiding bad surprises."
   ]
  },
  {
   "cell_type": "markdown",
   "metadata": {},
   "source": [
    "## Inheritance "
   ]
  },
  {
   "cell_type": "markdown",
   "metadata": {},
   "source": [
    "TODO: describe examples from OGGM mass-balance model, duck-typing."
   ]
  },
  {
   "cell_type": "markdown",
   "metadata": {},
   "source": [
    "## Take home points"
   ]
  },
  {
   "cell_type": "markdown",
   "metadata": {},
   "source": [
    "TODO"
   ]
  },
  {
   "cell_type": "markdown",
   "metadata": {},
   "source": [
    "## What's next? "
   ]
  },
  {
   "cell_type": "markdown",
   "metadata": {},
   "source": [
    "Back to the [table of contents](00-Introduction.ipynb#ctoc), or [jump to the pelita project](26-Pelita.ipynb)!"
   ]
  }
 ],
 "metadata": {
  "hide_input": false,
  "kernelspec": {
   "display_name": "Python 3",
   "language": "python",
   "name": "python3"
  },
  "language_info": {
   "codemirror_mode": {
    "name": "ipython",
    "version": 3
   },
   "file_extension": ".py",
   "mimetype": "text/x-python",
   "name": "python",
   "nbconvert_exporter": "python",
   "pygments_lexer": "ipython3",
   "version": "3.5.2"
  },
  "toc": {
   "base_numbering": "25",
   "nav_menu": {},
   "number_sections": true,
   "sideBar": true,
   "skip_h1_title": false,
   "title_cell": "Table of Contents",
   "title_sidebar": "Contents",
   "toc_cell": true,
   "toc_position": {
    "height": "calc(100% - 180px)",
    "left": "10px",
    "top": "150px",
    "width": "307px"
   },
   "toc_section_display": "block",
   "toc_window_display": true
  }
 },
 "nbformat": 4,
 "nbformat_minor": 2
}
