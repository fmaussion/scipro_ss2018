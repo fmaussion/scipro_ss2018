{
 "cells": [
  {
   "cell_type": "markdown",
   "metadata": {},
   "source": [
    "# Assignment #07: writing a python package"
   ]
  },
  {
   "cell_type": "markdown",
   "metadata": {},
   "source": [
    "This time, all groups will send me their solution to the programming task (one ``.zip`` file per group) and I will provide feedback for each solution.\n",
    "\n",
    "**The deadline for submission is 03.06.2018**"
   ]
  },
  {
   "cell_type": "markdown",
   "metadata": {},
   "source": [
    "## The visclim package"
   ]
  },
  {
   "cell_type": "markdown",
   "metadata": {},
   "source": [
    "I've written a small package called **visclim**. Its design is based on the dummy [template package](https://github.com/fmaussion/scispack), but this time it really does something.\n",
    "\n",
    "**Download the zipped package from [here](../data/climvis.zip) and extract it. Read the README and the package requirements first.**\n",
    "\n",
    "**Now install it in development mode. If you are working on your own computer:**\n",
    "\n",
    "    pip install -e .\n",
    "    \n",
    "From the root directory. **If you are working on the university computer, do:**\n",
    "\n",
    "    pip install --user -e ."
   ]
  },
  {
   "cell_type": "markdown",
   "metadata": {},
   "source": [
    "**Try the command line interface (``cruvis -h``) from a terminal. Now explore ``setup.py``: can you identify what makes the command available from the terminal? Where is the code executing the command ``cruvis``?**"
   ]
  },
  {
   "cell_type": "markdown",
   "metadata": {},
   "source": [
    "**Familiarize yourself with the tool. Can you understand what the role of each function is?**"
   ]
  },
  {
   "cell_type": "markdown",
   "metadata": {},
   "source": [
    "**Can you run the tests successfully? Probably not. Somewhere in ``cfg.py``, a hard coded path is pointing to a non-existing directory.**\n",
    "\n",
    "**If you are working on your own computer, change the path to a local folder of yours and download the necessary data:**\n",
    "- [temperature](https://crudata.uea.ac.uk/cru/data/hrg/cru_ts_4.01/cruts.1709081022.v4.01/tmp/cru_ts4.01.1901.2016.tmp.dat.nc.gz)\n",
    "- [precipitation](https://crudata.uea.ac.uk/cru/data/hrg/cru_ts_4.01/cruts.1709081022.v4.01/pre/cru_ts4.01.1901.2016.pre.dat.nc.gz)\n",
    "- [elevation](https://cluster.klima.uni-bremen.de/~fmaussion/misc/cru_cl1_topography.nc)\n",
    "\n",
    "**Careful! The total decompressed output is about 6GB large.**\n",
    "\n",
    "\n",
    "**If you are working on the university computer, a folder containing the data is available at:**\n",
    "\n",
    "    /scratch/c707/c7071047/data-scipro/\n",
    "\n",
    "**Careful! This is a subset of the data (Central Europe): the tools works for these locations, but not globally.**"
   ]
  },
  {
   "cell_type": "markdown",
   "metadata": {},
   "source": [
    "Make sure you are able to run the command succesfully before going on. For example, ``cruvis -l 12 47`` should work fine and display a page in your browser."
   ]
  },
  {
   "cell_type": "markdown",
   "metadata": {},
   "source": [
    "## Assignment #07-01: make the tool more robust"
   ]
  },
  {
   "cell_type": "markdown",
   "metadata": {},
   "source": [
    "Here are a couple of smaller tasks to get you started:\n",
    "- The hard coded path in ``cfg.py`` is very ugly. At the same time, we really need the CRU data for the tool to run! Add a safety check in the code in order to make sure the files are available. If the CRU files are not available, print the following message and exit the program:\n",
    "\n",
    "   ``The CRU files are not available on this system. For cruvis to work properly, please create a file called \".cruvis\" in your HOME directory, and indicate the path to the CRU directory in it.``\n",
    "\n",
    "\n",
    "- Add a small function in ``cfg.py`` which parses this new ``.cruvis`` file and uses the given directory in place of the hard-coded one. Tip: you could make good use of [os.path.expanduser](https://docs.python.org/3/library/os.path.html#os.path.expanduser) for this function.\n",
    "\n",
    "- Selecting a location over the oceans will raise a very uninformative python error message. Make the ``write_html`` function more robust: if the data contains NaNs, print a warning and exit the program.\n",
    " "
   ]
  },
  {
   "cell_type": "markdown",
   "metadata": {},
   "source": [
    "## Assignment #07-02: make the tool better"
   ]
  },
  {
   "cell_type": "markdown",
   "metadata": {},
   "source": [
    "Now you should be ready to contribute to this great package! **Add one simple functionality** to it. It can be anything you want, as long as it makes you write some code. Here are some ideas if you don't have any:\n",
    "- you could add a plot of the 1901-2016 timeseries for this grid point, and make a trend analysis for the period.\n",
    "- you could add a new command to the tool called ``uibkvis``, which instead plots the data from the UIBK weather stations. You can rely heavily on your work from week 03! You'll have to document its command line options of course.\n",
    "- you could add an option to ``cruvis``, which accepts a city name instead of the lon and lat of the point. You could use the file shipped with the package for this (world_cities.csv).\n",
    "- you could add a new tool which compares the data at two locations.\n",
    "- you could parse any other data you'd find interesting from the web.\n",
    "- ..."
   ]
  },
  {
   "cell_type": "markdown",
   "metadata": {},
   "source": [
    "Some tasks are more difficult than others. I don't mind if you take an easy one, as long as you write something on your own. You are working as a group, so split the tasks between the group members!"
   ]
  },
  {
   "cell_type": "markdown",
   "metadata": {},
   "source": [
    "*Back to the [table of contents](00-Introduction.ipynb#ctoc)*"
   ]
  }
 ],
 "metadata": {
  "hide_input": false,
  "kernelspec": {
   "display_name": "Python 3",
   "language": "python",
   "name": "python3"
  },
  "language_info": {
   "codemirror_mode": {
    "name": "ipython",
    "version": 3
   },
   "file_extension": ".py",
   "mimetype": "text/x-python",
   "name": "python",
   "nbconvert_exporter": "python",
   "pygments_lexer": "ipython3",
   "version": "3.5.2"
  },
  "toc": {
   "base_numbering": 1,
   "nav_menu": {},
   "number_sections": false,
   "sideBar": true,
   "skip_h1_title": false,
   "title_cell": "Table of Contents",
   "title_sidebar": "Contents",
   "toc_cell": false,
   "toc_position": {},
   "toc_section_display": "block",
   "toc_window_display": false
  }
 },
 "nbformat": 4,
 "nbformat_minor": 2
}
