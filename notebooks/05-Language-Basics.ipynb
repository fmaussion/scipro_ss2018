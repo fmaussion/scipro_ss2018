{
 "cells": [
  {
   "cell_type": "markdown",
   "metadata": {},
   "source": [
    "# Language basics"
   ]
  },
  {
   "cell_type": "markdown",
   "metadata": {},
   "source": [
    "In this chapter we are revisiting the things you learned during the tutorial, and give some example of applications for each of the new concepts that were introduced.\n",
    "\n",
    "**Learning outcomes**: fundamentals of the python syntax. New semantics: data type, literal, sequences, mapping, keyword and positional arguments...\n",
    "\n",
    "**Prerequisites**: you have read the [python tutorial](https://docs.python.org/3/tutorial/), sections 3 to 5. "
   ]
  },
  {
   "cell_type": "markdown",
   "metadata": {
    "toc": true
   },
   "source": [
    "<h1>Table of Contents<span class=\"tocSkip\"></span></h1>\n",
    "<div class=\"toc\"><ul class=\"toc-item\"><li><span><a href=\"#Language-basics\" data-toc-modified-id=\"Language-basics-5\"><span class=\"toc-item-num\">5&nbsp;&nbsp;</span>Language basics</a></span><ul class=\"toc-item\"><li><span><a href=\"#Basic-data-types\" data-toc-modified-id=\"Basic-data-types-5.1\"><span class=\"toc-item-num\">5.1&nbsp;&nbsp;</span>Basic data types</a></span><ul class=\"toc-item\"><li><span><a href=\"#Asking-for-the-type-of-an-object\" data-toc-modified-id=\"Asking-for-the-type-of-an-object-5.1.1\"><span class=\"toc-item-num\">5.1.1&nbsp;&nbsp;</span>Asking for the type of an object</a></span></li><li><span><a href=\"#Numeric-types\" data-toc-modified-id=\"Numeric-types-5.1.2\"><span class=\"toc-item-num\">5.1.2&nbsp;&nbsp;</span>Numeric types</a></span></li><li><span><a href=\"#Booleans\" data-toc-modified-id=\"Booleans-5.1.3\"><span class=\"toc-item-num\">5.1.3&nbsp;&nbsp;</span>Booleans</a></span></li><li><span><a href=\"#Text\" data-toc-modified-id=\"Text-5.1.4\"><span class=\"toc-item-num\">5.1.4&nbsp;&nbsp;</span>Text</a></span></li><li><span><a href=\"#Sequence-types---list,-tuple,-range\" data-toc-modified-id=\"Sequence-types---list,-tuple,-range-5.1.5\"><span class=\"toc-item-num\">5.1.5&nbsp;&nbsp;</span>Sequence types - list, tuple, range</a></span></li><li><span><a href=\"#Sets\" data-toc-modified-id=\"Sets-5.1.6\"><span class=\"toc-item-num\">5.1.6&nbsp;&nbsp;</span>Sets</a></span></li><li><span><a href=\"#Mapping-types---dict\" data-toc-modified-id=\"Mapping-types---dict-5.1.7\"><span class=\"toc-item-num\">5.1.7&nbsp;&nbsp;</span>Mapping types - dict</a></span></li><li><span><a href=\"#Semantics-parenthesis:-&quot;literals&quot;\" data-toc-modified-id=\"Semantics-parenthesis:-&quot;literals&quot;-5.1.8\"><span class=\"toc-item-num\">5.1.8&nbsp;&nbsp;</span>Semantics parenthesis: \"literals\"</a></span></li></ul></li><li><span><a href=\"#Control-flow\" data-toc-modified-id=\"Control-flow-5.2\"><span class=\"toc-item-num\">5.2&nbsp;&nbsp;</span>Control flow</a></span><ul class=\"toc-item\"><li><span><a href=\"#In-python,-one-iterates-over-sequences,-not-indexes\" data-toc-modified-id=\"In-python,-one-iterates-over-sequences,-not-indexes-5.2.1\"><span class=\"toc-item-num\">5.2.1&nbsp;&nbsp;</span>In python, one iterates over sequences, not indexes</a></span></li><li><span><a href=\"#In-python,-indentation-matters\" data-toc-modified-id=\"In-python,-indentation-matters-5.2.2\"><span class=\"toc-item-num\">5.2.2&nbsp;&nbsp;</span>In python, indentation matters</a></span></li><li><span><a href=\"#In-python,-functions-have-two-types-of-arguments\" data-toc-modified-id=\"In-python,-functions-have-two-types-of-arguments-5.2.3\"><span class=\"toc-item-num\">5.2.3&nbsp;&nbsp;</span>In python, functions have two types of arguments</a></span></li></ul></li><li><span><a href=\"#Take-home-points\" data-toc-modified-id=\"Take-home-points-5.3\"><span class=\"toc-item-num\">5.3&nbsp;&nbsp;</span>Take home points</a></span></li><li><span><a href=\"#What's-next?\" data-toc-modified-id=\"What's-next?-5.4\"><span class=\"toc-item-num\">5.4&nbsp;&nbsp;</span>What's next?</a></span></li></ul></li></ul></div>"
   ]
  },
  {
   "cell_type": "markdown",
   "metadata": {},
   "source": [
    "## Basic data types"
   ]
  },
  {
   "cell_type": "markdown",
   "metadata": {},
   "source": [
    "An informal way to describe a programming language is to say that it \"does things with stuff\". These \"stuff\" are often formally called [Data Types](https://en.wikipedia.org/wiki/Data_type) in computer science. In python, these data are called \"objects\": these can be described much more formally, but for now we will just mention that *everything is an object in python*.\n",
    "\n",
    "Therefore, **data types** are sometimes called **object types** in some python textbooks. It doesn't make a difference and you can choose both terminologies. In sections 3 and 4 of the tutorial you used exclusively [built-in](https://docs.python.org/3/library/stdtypes.html) types. **Built-in data types** are directly available in the interpreter, as opposed to other data types which maybe obtained either by importing them (eg ``from collections import OrderedDict``) or by creating them yourselves."
   ]
  },
  {
   "cell_type": "markdown",
   "metadata": {},
   "source": [
    "### Asking for the type of an object"
   ]
  },
  {
   "cell_type": "code",
   "execution_count": null,
   "metadata": {},
   "outputs": [],
   "source": [
    "type(1)"
   ]
  },
  {
   "cell_type": "code",
   "execution_count": null,
   "metadata": {},
   "outputs": [],
   "source": [
    "a = 'Hello'\n",
    "type(a)"
   ]
  },
  {
   "cell_type": "markdown",
   "metadata": {},
   "source": [
    "<img src=\"../img/logo_ex.png\" align=\"left\" style=\"width:1em; height:1em;\"> **Exercise**: add a ``print`` call in the statement above to see the difference with ipython's simplified print. What is the type of ``type``, by the way?"
   ]
  },
  {
   "cell_type": "markdown",
   "metadata": {},
   "source": [
    "### Numeric types "
   ]
  },
  {
   "cell_type": "markdown",
   "metadata": {},
   "source": [
    "There are three distinct numeric types: **integers** (``int``), **floating point numbers** (``float``), and **complex numbers** (``complex``). We will talk about these in more details in the numerics chapter."
   ]
  },
  {
   "cell_type": "markdown",
   "metadata": {},
   "source": [
    " ### Booleans"
   ]
  },
  {
   "cell_type": "markdown",
   "metadata": {},
   "source": [
    "There is a built-in boolean data type (``bool``) useful to test for truth value. Examples:"
   ]
  },
  {
   "cell_type": "code",
   "execution_count": null,
   "metadata": {},
   "outputs": [],
   "source": [
    "type(True), type(False)"
   ]
  },
  {
   "cell_type": "code",
   "execution_count": null,
   "metadata": {},
   "outputs": [],
   "source": [
    "type(a == 'Hello')"
   ]
  },
  {
   "cell_type": "code",
   "execution_count": null,
   "metadata": {},
   "outputs": [],
   "source": [
    "3 < 5"
   ]
  },
  {
   "cell_type": "markdown",
   "metadata": {},
   "source": [
    "Note that there are other rules about testing for truth in python. This is quite convenient if you want to avoid doing operation on invalid or empty containers:"
   ]
  },
  {
   "cell_type": "code",
   "execution_count": null,
   "metadata": {},
   "outputs": [],
   "source": [
    "if '':\n",
    "    print('This should not happen')"
   ]
  },
  {
   "cell_type": "markdown",
   "metadata": {},
   "source": [
    "Refer to the [docs](https://docs.python.org/3/library/stdtypes.html#truth-value-testing) for an exhaustive list of boolean operations and comparison operators."
   ]
  },
  {
   "cell_type": "markdown",
   "metadata": {},
   "source": [
    "### Text"
   ]
  },
  {
   "cell_type": "markdown",
   "metadata": {},
   "source": [
    "In python (and many other languages) text sequences are named **strings** (``str``), which can be of any length:"
   ]
  },
  {
   "cell_type": "code",
   "execution_count": null,
   "metadata": {},
   "outputs": [],
   "source": [
    "type('Français')"
   ]
  },
  {
   "cell_type": "markdown",
   "metadata": {},
   "source": [
    "Unlike some languages, there is no special type for characters:"
   ]
  },
  {
   "cell_type": "code",
   "execution_count": null,
   "metadata": {},
   "outputs": [],
   "source": [
    "for char in 'string':\n",
    "    print(char, type(char))"
   ]
  },
  {
   "cell_type": "markdown",
   "metadata": {},
   "source": [
    "Since strings behave like **lists** in many ways, they are often classified together with the **sequence** types, as seen below."
   ]
  },
  {
   "cell_type": "markdown",
   "metadata": {},
   "source": [
    "### Sequence types - list, tuple, range"
   ]
  },
  {
   "cell_type": "markdown",
   "metadata": {},
   "source": [
    "Sequence types support a [common set of operations](https://docs.python.org/3/library/stdtypes.html#common-sequence-operations) and are therefore very similar:"
   ]
  },
  {
   "cell_type": "code",
   "execution_count": null,
   "metadata": {},
   "outputs": [],
   "source": [
    "l = [0, 1, 2]\n",
    "t = (0, 1, 2)\n",
    "r = range(3)"
   ]
  },
  {
   "cell_type": "code",
   "execution_count": null,
   "metadata": {},
   "outputs": [],
   "source": [
    "1 in l, 1 in t, 1 in r"
   ]
  },
  {
   "cell_type": "code",
   "execution_count": null,
   "metadata": {},
   "outputs": [],
   "source": [
    "len(l), len(t), len(r)"
   ]
  },
  {
   "cell_type": "code",
   "execution_count": null,
   "metadata": {},
   "outputs": [],
   "source": [
    "l + l"
   ]
  },
  {
   "cell_type": "code",
   "execution_count": null,
   "metadata": {},
   "outputs": [],
   "source": [
    "t + t"
   ]
  },
  {
   "cell_type": "markdown",
   "metadata": {},
   "source": [
    "But this won't make much sense for the range type though. Ranges are a little different:"
   ]
  },
  {
   "cell_type": "code",
   "execution_count": null,
   "metadata": {},
   "outputs": [],
   "source": [
    "r = range(10)\n",
    "r"
   ]
  },
  {
   "cell_type": "code",
   "execution_count": null,
   "metadata": {},
   "outputs": [],
   "source": [
    "list(r)"
   ]
  },
  {
   "cell_type": "markdown",
   "metadata": {},
   "source": [
    "They are usually used for loops or to generate other sequences. Ranges have a strong advantage over lists and tuples: their elements are given upon request, and ranges have therefore a very low memory consumption. See the following:"
   ]
  },
  {
   "cell_type": "code",
   "execution_count": null,
   "metadata": {},
   "outputs": [],
   "source": [
    "range(2**100)"
   ]
  },
  {
   "cell_type": "code",
   "execution_count": null,
   "metadata": {},
   "outputs": [],
   "source": [
    "list(range(2**100))"
   ]
  },
  {
   "cell_type": "markdown",
   "metadata": {},
   "source": [
    "An ``OverflowError`` tells me that I'm trying to create an array too big to fit into memory."
   ]
  },
  {
   "cell_type": "markdown",
   "metadata": {},
   "source": [
    "As mentioned earlier, strings also have much in common with lists:"
   ]
  },
  {
   "cell_type": "code",
   "execution_count": null,
   "metadata": {},
   "outputs": [],
   "source": [
    "'gg' in 'eggs'"
   ]
  },
  {
   "cell_type": "markdown",
   "metadata": {},
   "source": [
    "\"Tuple\" is probably a new concept for you. It is a type quite specific to python. It is *almost* like a list, but it is **immutable**:"
   ]
  },
  {
   "cell_type": "code",
   "execution_count": null,
   "metadata": {},
   "outputs": [],
   "source": [
    "l[1] = 'ha!'\n",
    "l"
   ]
  },
  {
   "cell_type": "code",
   "execution_count": null,
   "metadata": {},
   "outputs": [],
   "source": [
    "t[1] = 'ha?'"
   ]
  },
  {
   "cell_type": "markdown",
   "metadata": {},
   "source": [
    "It is exactly this property which makes tuples useful, but this is not really obvious at the first sight. We'll leave it here for now."
   ]
  },
  {
   "cell_type": "markdown",
   "metadata": {},
   "source": [
    "### Sets "
   ]
  },
  {
   "cell_type": "markdown",
   "metadata": {},
   "source": [
    "Sets are an unordered collection of **distinct** objects: "
   ]
  },
  {
   "cell_type": "code",
   "execution_count": null,
   "metadata": {},
   "outputs": [],
   "source": [
    "s = {'why', 1, 9}\n",
    "s.union({9, 'not'})"
   ]
  },
  {
   "cell_type": "markdown",
   "metadata": {},
   "source": [
    "Sets are useful for realising operations such as intersection, union, difference, and symmetric difference. "
   ]
  },
  {
   "cell_type": "markdown",
   "metadata": {},
   "source": [
    "### Mapping types - dict"
   ]
  },
  {
   "cell_type": "markdown",
   "metadata": {},
   "source": [
    "A **mapping object** maps values (**keys**) to arbitrary objects (**values**). It is a collection of (key, value) pairs: "
   ]
  },
  {
   "cell_type": "code",
   "execution_count": null,
   "metadata": {},
   "outputs": [],
   "source": [
    "d = {'a':1, 2:'b'}\n",
    "d"
   ]
  },
  {
   "cell_type": "code",
   "execution_count": null,
   "metadata": {},
   "outputs": [],
   "source": [
    "2 in d"
   ]
  },
  {
   "cell_type": "code",
   "execution_count": null,
   "metadata": {},
   "outputs": [],
   "source": [
    "1 in d"
   ]
  },
  {
   "cell_type": "code",
   "execution_count": null,
   "metadata": {},
   "outputs": [],
   "source": [
    "d['a']"
   ]
  },
  {
   "cell_type": "markdown",
   "metadata": {},
   "source": [
    "Dictionaries are (together with lists) the **container** type you will use the most often.\n",
    "\n",
    "*Note: there are other mapping types in python, but they are all related to the original ``dict``. Examples include ``collections.OrderedDict``, which is a dictionary preserving the order in which the keys are entered.*"
   ]
  },
  {
   "cell_type": "markdown",
   "metadata": {},
   "source": [
    "<img src=\"../img/logo_ex.png\" align=\"left\" style=\"width:1em; height:1em;\"> **Exercise**: can you think of examples of application of a ``dict``? Describe a couple of them!"
   ]
  },
  {
   "cell_type": "markdown",
   "metadata": {},
   "source": [
    "### Semantics parenthesis: \"literals\""
   ]
  },
  {
   "cell_type": "markdown",
   "metadata": {},
   "source": [
    "**Literals** are the fixed values of a programming language (\"notations\"). Some of them are pretty universal, like numbers or strings (``9``, ``3.14``, ``\"Hi!\"``, all literals) some are more language specific and belong to the language's syntax. Curly brackets ``{}`` for example are the literal representation of a ``set``. This syntax has been added for convenience only:"
   ]
  },
  {
   "cell_type": "code",
   "execution_count": null,
   "metadata": {},
   "outputs": [],
   "source": [
    "s1 = set([1, 2, 3])\n",
    "s2 = {1, 2, 3}\n",
    "s1 == s2"
   ]
  },
  {
   "cell_type": "code",
   "execution_count": null,
   "metadata": {},
   "outputs": [],
   "source": [
    "d1 = dict(bird='parrot', plant='crocus')\n",
    "d2 = {'bird':'parrot', 'plant':'crocus'}\n",
    "d1 == d2"
   ]
  },
  {
   "cell_type": "markdown",
   "metadata": {},
   "source": [
    "Using one or the other way to construct your containers is a matter of taste, but in practice you will see the literal version more often."
   ]
  },
  {
   "cell_type": "markdown",
   "metadata": {},
   "source": [
    "##  Control flow"
   ]
  },
  {
   "cell_type": "markdown",
   "metadata": {},
   "source": [
    "In the tutorial you've learned about ``for`` and ``while`` loops (the latter being much less frequent). I'll just summarize the most important information here:"
   ]
  },
  {
   "cell_type": "markdown",
   "metadata": {},
   "source": [
    "### In python, one iterates over sequences, not indexes "
   ]
  },
  {
   "cell_type": "markdown",
   "metadata": {},
   "source": [
    "This is the major difference with loops you might have known from other languages (and this is one of the best things in python):"
   ]
  },
  {
   "cell_type": "markdown",
   "metadata": {},
   "source": [
    "**Unpythonic:**"
   ]
  },
  {
   "cell_type": "code",
   "execution_count": null,
   "metadata": {},
   "outputs": [],
   "source": [
    "seq = ['This', 'is', 'very', 'unpythonic']\n",
    "for i in range(len(seq)):\n",
    "    print(seq[i])"
   ]
  },
  {
   "cell_type": "markdown",
   "metadata": {},
   "source": [
    "**Pythonic**:"
   ]
  },
  {
   "cell_type": "code",
   "execution_count": null,
   "metadata": {},
   "outputs": [],
   "source": [
    "seq[-1] = 'pythonic'\n",
    "for s in seq:\n",
    "    print(s)"
   ]
  },
  {
   "cell_type": "markdown",
   "metadata": {},
   "source": [
    "``for i in range(xx)`` is almost never what you want to do in python. If you have several sequences you want to **iterate** over, then do:"
   ]
  },
  {
   "cell_type": "code",
   "execution_count": null,
   "metadata": {},
   "outputs": [],
   "source": [
    "lis = [1, 2, 3, 5]\n",
    "for s, l in zip(seq, lis):\n",
    "    print(l, s)"
   ]
  },
  {
   "cell_type": "markdown",
   "metadata": {},
   "source": [
    "### In python, indentation matters "
   ]
  },
  {
   "cell_type": "markdown",
   "metadata": {},
   "source": [
    "Blocks are defined via their **indentation**, and not via brackets or ``begin .. end`` statements. Hate it or love it, this is how it is ;-). I learned to like this style a lot. Although the indentation could be anything (two spaces, tabs...), the recommended way is to use **four spaces**."
   ]
  },
  {
   "cell_type": "markdown",
   "metadata": {},
   "source": [
    "### In python, functions have two types of arguments"
   ]
  },
  {
   "cell_type": "markdown",
   "metadata": {},
   "source": [
    "These are the **positional arguments** and **keyword arguments**.\n",
    "\n",
    "**keyword arguments** are preceded by an identifier (e.g. ``name=``) and are attributed a default value. They are therefore *optional* and the order in which they are given to the function does not matter:"
   ]
  },
  {
   "cell_type": "code",
   "execution_count": null,
   "metadata": {},
   "outputs": [],
   "source": [
    "def f(arg1, arg2, kwarg1=None, kwarg2='None'):\n",
    "    print(arg1, arg2, kwarg1, kwarg2)"
   ]
  },
  {
   "cell_type": "code",
   "execution_count": null,
   "metadata": {},
   "outputs": [],
   "source": [
    "f(1, 2, kwarg2='Yes', kwarg1=3.14)"
   ]
  },
  {
   "cell_type": "code",
   "execution_count": null,
   "metadata": {},
   "outputs": [],
   "source": [
    "f(1, 2, 'Yes', 'No')"
   ]
  },
  {
   "cell_type": "markdown",
   "metadata": {},
   "source": [
    "I am not a big fan of this feature because it reduces the clarity of the code and recommend to always use the ``kwarg=`` syntax. I am not alone in this case, and therefore python implemented a syntax to make calls like above illegal:"
   ]
  },
  {
   "cell_type": "code",
   "execution_count": null,
   "metadata": {},
   "outputs": [],
   "source": [
    "# The * before the keyword arguments make them keyword arguments ONLY\n",
    "def f(arg1, arg2, *, kwarg1=None, kwarg2='None'):\n",
    "    print(arg1, arg2, kwarg1, kwarg2)"
   ]
  },
  {
   "cell_type": "code",
   "execution_count": null,
   "metadata": {},
   "outputs": [],
   "source": [
    "f(1, 2, 'Yes', 'No')"
   ]
  },
  {
   "cell_type": "markdown",
   "metadata": {},
   "source": [
    "**positional arguments** are named like this because their position matters, and unlike keyword arguments they don't have a default value and are mandatory. Forgetting to set them results in an error:"
   ]
  },
  {
   "cell_type": "code",
   "execution_count": null,
   "metadata": {},
   "outputs": [],
   "source": [
    "f(1)"
   ]
  },
  {
   "cell_type": "markdown",
   "metadata": {},
   "source": [
    "## Take home points"
   ]
  },
  {
   "cell_type": "markdown",
   "metadata": {},
   "source": [
    "- we learned the basic elements of the python syntax. To become fluent in this language you will have to master all of the elements presented above.\n",
    "- we introduced new concepts: data type, literal, sequences, mapping, keyword and positional arguments."
   ]
  },
  {
   "cell_type": "markdown",
   "metadata": {},
   "source": [
    "## What's next? "
   ]
  },
  {
   "cell_type": "markdown",
   "metadata": {},
   "source": [
    "Back to the [table of contents](00-Introduction.ipynb#ctoc), or [jump to the next chapter](06-Import-Scopes.ipynb)."
   ]
  }
 ],
 "metadata": {
  "hide_input": false,
  "kernelspec": {
   "display_name": "Python 3",
   "language": "python",
   "name": "python3"
  },
  "language_info": {
   "codemirror_mode": {
    "name": "ipython",
    "version": 3
   },
   "file_extension": ".py",
   "mimetype": "text/x-python",
   "name": "python",
   "nbconvert_exporter": "python",
   "pygments_lexer": "ipython3",
   "version": "3.5.2"
  },
  "toc": {
   "base_numbering": "5",
   "nav_menu": {},
   "number_sections": true,
   "sideBar": true,
   "skip_h1_title": false,
   "title_cell": "Table of Contents",
   "title_sidebar": "Contents",
   "toc_cell": true,
   "toc_position": {
    "height": "calc(100% - 180px)",
    "left": "10px",
    "top": "150px",
    "width": "384px"
   },
   "toc_section_display": "block",
   "toc_window_display": true
  }
 },
 "nbformat": 4,
 "nbformat_minor": 2
}
