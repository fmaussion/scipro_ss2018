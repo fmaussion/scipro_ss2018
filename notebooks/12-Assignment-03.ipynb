{
 "cells": [
  {
   "cell_type": "markdown",
   "metadata": {},
   "source": [
    "# Assignment #03: exceptions and testing"
   ]
  },
  {
   "cell_type": "markdown",
   "metadata": {},
   "source": [
    "Since last week you have learned two important new concepts: unit testing and exceptions handling. In today's assignment we will revisit last week's code in order to properly test it and make it more robust.  \n",
    "\n",
    "In exercise #03-02 we will learn the basics of numpy and matplotlib in order to display live meteorological data.\n",
    "\n",
    "**Note: for these exercises you are allowed to use the numpy and matplotlib libraries only! No external module is allowed (with the exception of the standard library of course).**"
   ]
  },
  {
   "cell_type": "markdown",
   "metadata": {},
   "source": [
    "## Exercise #03-01: refactor and test last week's code"
   ]
  },
  {
   "cell_type": "markdown",
   "metadata": {},
   "source": [
    "- **Write a test suite for both exercises from last week** (one ``test_*.py`` file per module). The test suite must contain unit tests for each function you programmed (I myself wrote 4 functions for exercise #02-01 and 3 for exercise #02-02).\n",
    "- **Apply the exception handling methods learned in [lesson 09](09-Exceptions.ipynb) to the download function(s) of exercise #02-02**. Add a test to your test suite to verify that exceptions are raised when an invalid tile is requested for download."
   ]
  },
  {
   "cell_type": "markdown",
   "metadata": {},
   "source": [
    "## Tutorials: getting started with numpy and matplotlib "
   ]
  },
  {
   "cell_type": "markdown",
   "metadata": {},
   "source": [
    "[numpy](http://www.numpy.org/) and [matplotlib](https://matplotlib.org/) are two fundamental pillars of the scientific python stack. You will find *numerous* tutorials for both libraries online. I am asking you to learn the basics of both tools by yourself, at the pace that suits you. Personally I recommend to follow these two tutorials from the Scipy Lecture Notes for a start:\n",
    "- [numpy tutorial](https://www.scipy-lectures.org/intro/numpy/index.html)\n",
    "- [matplotlib tutorial](https://www.scipy-lectures.org/intro/matplotlib/index.html)"
   ]
  },
  {
   "cell_type": "markdown",
   "metadata": {},
   "source": [
    "## Exercise #03-02: ACINN meteorological data "
   ]
  },
  {
   "cell_type": "markdown",
   "metadata": {},
   "source": [
    "The institute website provides live visualization of meteorological data: http://acinn.uibk.ac.at/current-weather/innsbruck-university . The raw data used for the plots are available in a live feed at the following addresses:\n",
    "- http://acinn.uibk.ac.at/innsbruck/3 for the three days data\n",
    "- http://acinn.uibk.ac.at/innsbruck/7 for the seven days data\n",
    "\n",
    "The data for the other stations are available, per analogy:\n",
    "- http://acinn.uibk.ac.at/ellboegen/3\n",
    "- http://acinn.uibk.ac.at/obergurgl/3\n",
    "- http://acinn.uibk.ac.at/sattelberg/3\n",
    "\n",
    "The data is shared by ACINN under a [Creative Commons Attribution-ShareAlike 4.0 International License](https://creativecommons.org/licenses/by-sa/4.0/).\n",
    "\n",
    "<a href=\"https://creativecommons.org/licenses/by-sa/4.0/\" target=\"_blank\">\n",
    "  <img align=\"left\" src=\"https://i.creativecommons.org/l/by-sa/4.0/88x31.png\"/>\n",
    "</a>\n"
   ]
  },
  {
   "cell_type": "markdown",
   "metadata": {},
   "source": [
    "The data is provided in the [json](https://www.json.org/) format, often used for web applications. Fortunately, this is very easy to read in python:"
   ]
  },
  {
   "cell_type": "code",
   "execution_count": null,
   "metadata": {},
   "outputs": [],
   "source": [
    "from urllib.request import Request, urlopen\n",
    "import json\n",
    "\n",
    "url = 'http://acinn.uibk.ac.at/innsbruck/3'\n",
    "# Parse the given url\n",
    "req = urlopen(Request(url)).read()\n",
    "# Read the data\n",
    "data = json.loads(req.decode('utf-8'))"
   ]
  },
  {
   "cell_type": "markdown",
   "metadata": {},
   "source": [
    "Now I will help you to parse the timestamp of the data:"
   ]
  },
  {
   "cell_type": "code",
   "execution_count": null,
   "metadata": {},
   "outputs": [],
   "source": [
    "from datetime import datetime, timedelta\n",
    "data['time'] = [datetime(1970, 1, 1) + timedelta(milliseconds=ds) for ds in data['datumsec']]"
   ]
  },
  {
   "cell_type": "markdown",
   "metadata": {},
   "source": [
    "And make a first plot to get you started:"
   ]
  },
  {
   "cell_type": "code",
   "execution_count": null,
   "metadata": {},
   "outputs": [],
   "source": [
    "%matplotlib inline\n",
    "import matplotlib.pyplot as plt\n",
    "plt.plot(data['time'], data['tl']);"
   ]
  },
  {
   "cell_type": "markdown",
   "metadata": {},
   "source": [
    "**Your main task is to write a script that accepts three arguments: station name, variable name, and a number of days (3 or 7, defaults to 3). The variable name might be of: ``['temperature', 'dewpoint_temperature', 'relative_humidity', 'windspeed', 'winddirection', 'pressure', 'precipitation', 'sunshine_duration']``. The script then displays a plot of the desired variable. The plot must contain the following information: variable name, variable description, unit. If the variable is not available, the script must print a warning and exit.**"
   ]
  },
  {
   "cell_type": "markdown",
   "metadata": {},
   "source": [
    "Here are some hints to get you started:\n",
    "- write several functions!\n",
    "- preprocess the data: rename the variables using a conversion table between the original variable names and the more human readable name of above. Add the metadata to the data, with at least two attributes: ``'description'`` and ``'units'``. A possible way to organize your data would be with the help of nested dictionaries.\n",
    "- write a function to convert dewpoint and temperature to relative humidity. It must be called only if necessary.\n",
    "- write a function to convert temperature and relative humidity to dewpoint temperature. It must be called only if necessary.\n",
    "- write tests!"
   ]
  },
  {
   "cell_type": "markdown",
   "metadata": {},
   "source": [
    "## Exercise #03-03: wind"
   ]
  },
  {
   "cell_type": "markdown",
   "metadata": {},
   "source": [
    "**Based on the data from exercise #03-02, write a function that prints the following information in the terminal:**\n",
    "\n",
    "```\n",
    "At station XXX, over the last 3 days, the dominant wind direction was XX (xx% of the time). The second most dominant wind direction was XX (xx% of the time), the least dominant wind direction was XX (xx% of the time). The maximum wind speed was XX m/s, while the strongest wind speed averaged over an hour was XX m/s.\n",
    "```\n",
    "\n",
    "With the wind directions being of 8 classes: N, NW, W, SW, S, SE, E, NE."
   ]
  },
  {
   "cell_type": "markdown",
   "metadata": {},
   "source": [
    "*Back to the [table of contents](00-Introduction.ipynb#ctoc)*"
   ]
  }
 ],
 "metadata": {
  "hide_input": false,
  "kernelspec": {
   "display_name": "Python 3",
   "language": "python",
   "name": "python3"
  },
  "language_info": {
   "codemirror_mode": {
    "name": "ipython",
    "version": 3
   },
   "file_extension": ".py",
   "mimetype": "text/x-python",
   "name": "python",
   "nbconvert_exporter": "python",
   "pygments_lexer": "ipython3",
   "version": "3.5.2"
  },
  "toc": {
   "base_numbering": 1,
   "nav_menu": {},
   "number_sections": false,
   "sideBar": true,
   "skip_h1_title": false,
   "title_cell": "Table of Contents",
   "title_sidebar": "Contents",
   "toc_cell": false,
   "toc_position": {},
   "toc_section_display": "block",
   "toc_window_display": false
  }
 },
 "nbformat": 4,
 "nbformat_minor": 2
}
