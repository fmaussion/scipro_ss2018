{
 "cells": [
  {
   "cell_type": "markdown",
   "metadata": {},
   "source": [
    "# Document your code"
   ]
  },
  {
   "cell_type": "markdown",
   "metadata": {},
   "source": [
    "Documenting your code is an integral part of the programming process. In this chapter I give some recommendations about how to write a useful documentation and how dedicated tools can be used to generate an html documentation for your project."
   ]
  },
  {
   "cell_type": "markdown",
   "metadata": {
    "toc": true
   },
   "source": [
    "<h1>Table of Contents<span class=\"tocSkip\"></span></h1>\n",
    "<div class=\"toc\"><ul class=\"toc-item\"><li><span><a href=\"#Document-your-code\" data-toc-modified-id=\"Document-your-code-27\"><span class=\"toc-item-num\">27&nbsp;&nbsp;</span>Document your code</a></span><ul class=\"toc-item\"><li><span><a href=\"#Introduction\" data-toc-modified-id=\"Introduction-27.1\"><span class=\"toc-item-num\">27.1&nbsp;&nbsp;</span>Introduction</a></span></li><li><span><a href=\"#Inline-comments\" data-toc-modified-id=\"Inline-comments-27.2\"><span class=\"toc-item-num\">27.2&nbsp;&nbsp;</span>Inline comments</a></span><ul class=\"toc-item\"><li><span><a href=\"#How-to-write-inline-comments\" data-toc-modified-id=\"How-to-write-inline-comments-27.2.1\"><span class=\"toc-item-num\">27.2.1&nbsp;&nbsp;</span>How to write inline comments</a></span></li><li><span><a href=\"#How-NOT-to-write-inline-comments\" data-toc-modified-id=\"How-NOT-to-write-inline-comments-27.2.2\"><span class=\"toc-item-num\">27.2.2&nbsp;&nbsp;</span>How NOT to write inline comments</a></span></li></ul></li><li><span><a href=\"#API-documentation\" data-toc-modified-id=\"API-documentation-27.3\"><span class=\"toc-item-num\">27.3&nbsp;&nbsp;</span>API documentation</a></span></li><li><span><a href=\"#Documentation-generators\" data-toc-modified-id=\"Documentation-generators-27.4\"><span class=\"toc-item-num\">27.4&nbsp;&nbsp;</span>Documentation generators</a></span><ul class=\"toc-item\"><li><span><a href=\"#Sphinx\" data-toc-modified-id=\"Sphinx-27.4.1\"><span class=\"toc-item-num\">27.4.1&nbsp;&nbsp;</span>Sphinx</a></span></li><li><span><a href=\"#ReadTheDocs\" data-toc-modified-id=\"ReadTheDocs-27.4.2\"><span class=\"toc-item-num\">27.4.2&nbsp;&nbsp;</span>ReadTheDocs</a></span></li></ul></li><li><span><a href=\"#Take-home-points\" data-toc-modified-id=\"Take-home-points-27.5\"><span class=\"toc-item-num\">27.5&nbsp;&nbsp;</span>Take home points</a></span></li><li><span><a href=\"#What's-next?\" data-toc-modified-id=\"What's-next?-27.6\"><span class=\"toc-item-num\">27.6&nbsp;&nbsp;</span>What's next?</a></span></li></ul></li></ul></div>"
   ]
  },
  {
   "cell_type": "markdown",
   "metadata": {},
   "source": [
    "## Introduction"
   ]
  },
  {
   "cell_type": "markdown",
   "metadata": {},
   "source": [
    "There are three major elements of code documentation:\n",
    "- **inline comments**: they explain the algorithm and single blocks of code as they are written. They are meant to be read by yourself and other programmers trying to debug and/or understand your code\n",
    "- **API documentation** (or function / method documentation): explains the purpose of functions or methods, their output, their input variables and their expected types, as well as implementation details if necessary. API stands for [Application Programming Interface](https://en.wikipedia.org/wiki/Application_programming_interface):  API documentation is written for *users* of the functions and should be understandable without looking at the code.\n",
    "- **project documentation** (introductory material, tutorials, etc.): without a project documentation, larger libraries like numpy or pandas would be very difficult to learn."
   ]
  },
  {
   "cell_type": "markdown",
   "metadata": {},
   "source": [
    "**At the very least**, your own code should have inline comments. API documentation is also very important, but it has a larger risk of being desynchronized from the code and therefore dangerous."
   ]
  },
  {
   "cell_type": "markdown",
   "metadata": {},
   "source": [
    "## Inline comments "
   ]
  },
  {
   "cell_type": "markdown",
   "metadata": {},
   "source": [
    "Inline comments are plain text explanations of your code. As written in [cs.utah.edu](https://www.cs.utah.edu/~germain/PPS/Topics/commenting.html): All programs should be commented in such a manner as to easily describe the purpose of the code and any algorithms used to accomplish the purpose. A user should be able to utilize a previously written program (or function) without ever having to look at the code, simply by reading the comments."
   ]
  },
  {
   "cell_type": "markdown",
   "metadata": {},
   "source": [
    "### How to write inline comments"
   ]
  },
  {
   "cell_type": "markdown",
   "metadata": {},
   "source": [
    "They are often placed at the top of a file (header comments) or before a thematic code block:"
   ]
  },
  {
   "cell_type": "code",
   "execution_count": null,
   "metadata": {},
   "outputs": [],
   "source": [
    "# 1D interpolation example from scipy\n",
    "# see: https://docs.scipy.org/doc/scipy/reference/tutorial/interpolate.html\n",
    "# Inline comments are my own (F. Maussion)\n",
    "import numpy as np\n",
    "import matplotlib.pyplot as plt\n",
    "from scipy.interpolate import interp1d\n",
    "%matplotlib inline\n",
    "\n",
    "# Create synthetic data for the plot\n",
    "x = np.linspace(0, 10, num=11, endpoint=True)\n",
    "y = np.cos(-x**2/9.0)\n",
    "\n",
    "# Define two different interpolation functions to compare:\n",
    "# linear (default) and cubic\n",
    "fl = interp1d(x, y)\n",
    "fc = interp1d(x, y, kind='cubic')\n",
    "\n",
    "# Location at which we want to interpolate\n",
    "xnew = np.linspace(0, 10, num=41, endpoint=True)\n",
    "\n",
    "# Compute the interpolated points and plot\n",
    "plt.plot(x, y, 'o', xnew, fl(xnew), '-', xnew, fc(xnew), '--')\n",
    "plt.legend(['data', 'linear', 'cubic'], loc='best');"
   ]
  },
  {
   "cell_type": "markdown",
   "metadata": {},
   "source": [
    "As you can see, the comments help to organize the code. The same example without comments is much less engaging:"
   ]
  },
  {
   "cell_type": "code",
   "execution_count": null,
   "metadata": {},
   "outputs": [],
   "source": [
    "import numpy as np\n",
    "import matplotlib.pyplot as plt\n",
    "from scipy.interpolate import interp1d\n",
    "%matplotlib inline\n",
    "x = np.linspace(0, 10, num=11, endpoint=True)\n",
    "y = np.cos(-x**2/9.0)\n",
    "fl = interp1d(x, y)\n",
    "fc = interp1d(x, y, kind='cubic')\n",
    "xnew = np.linspace(0, 10, num=41, endpoint=True)\n",
    "plt.plot(x, y, 'o', xnew, fl(xnew), '-', xnew, fc(xnew), '--')\n",
    "plt.legend(['data', 'linear', 'cubic'], loc='best');"
   ]
  },
  {
   "cell_type": "markdown",
   "metadata": {},
   "source": [
    "Comments can include references to algorithms or indications about who wrote these lines. They should become automatic when you write code."
   ]
  },
  {
   "cell_type": "markdown",
   "metadata": {},
   "source": [
    "### How NOT to write inline comments "
   ]
  },
  {
   "cell_type": "markdown",
   "metadata": {},
   "source": [
    "Inline comments can be more harmfull than helping. See the following example:"
   ]
  },
  {
   "cell_type": "code",
   "execution_count": null,
   "metadata": {},
   "outputs": [],
   "source": [
    "# Numpy tutorial on matrix multiplication\n",
    "# Author: mowglie\n",
    "import numpy as np\n",
    "import matplotlib.pyplot as plt\n",
    "from scipy.interpolate import interp1d\n",
    "%matplotlib inline\n",
    "\n",
    "# linspace between 0 and 10\n",
    "x = np.linspace(0, 10, num=11, endpoint=True)\n",
    "y = np.cos(-x**2/9.0)  # apply cosinus\n",
    "\n",
    "# from documentation: \n",
    "# https://docs.numpy.org/doc/numpy/reference/generated/scipy.interpolate.interp1d.html#scipy.interpolate.interp1d\n",
    "fl = interp1d(x, y)\n",
    "fc = interp1d(x, y, kind='cubic')\n",
    "\n",
    "# linspace between 0 and 10\n",
    "xnew = np.linspace(0, 10, num=41, endpoint=True)\n",
    "\n",
    "# Plot\n",
    "plt.plot(x, y, 'o', xnew, fl(xnew), '-', xnew, fc(xnew), '--')\n",
    "plt.legend(['data', 'linear', 'cubic'], loc='best');"
   ]
  },
  {
   "cell_type": "markdown",
   "metadata": {},
   "source": [
    "What are the problems here?\n",
    "1. **Wrong/outdated documentation**: the header inline comments are from a previous file and the documentation link does not work\n",
    "2. **Commenting the obvious**: paraphrasing the name of the function or its arguments is not helping at all! It is not plain English, and assumes that the reader knows the function and what it does."
   ]
  },
  {
   "cell_type": "markdown",
   "metadata": {},
   "source": [
    "Regarding obvious comments, I really like this comic by [Abstruse Goose](https://abstrusegoose.com/432) which I find brings it quite to the point:\n",
    "\n",
    "![abstruse goose 432](https://abstrusegoose.com/strips/you_down_wit_OPC-yeah_you_know_me.png)"
   ]
  },
  {
   "cell_type": "markdown",
   "metadata": {},
   "source": [
    "Basically: **think about future readers when writing both code and comments**! And don't forget: this future reader might be you, and you'll be thanking yourself."
   ]
  },
  {
   "cell_type": "markdown",
   "metadata": {},
   "source": [
    "## API documentation"
   ]
  },
  {
   "cell_type": "markdown",
   "metadata": {},
   "source": [
    "A [function signature](https://developer.mozilla.org/en-US/docs/Glossary/Signature/Function) (or type signature, or method signature) defines input and output of functions or methods. When writing a function, you expect users (including yourself) to use it for a certain period of time. Ideally, you would like to understand what a function does *long* after writing it. This is what docstrings are for:"
   ]
  },
  {
   "cell_type": "code",
   "execution_count": null,
   "metadata": {},
   "outputs": [],
   "source": [
    "def repeat(phrase, n_times=2, sep=', '):\n",
    "    \"\"\"Repeat a phrase a given number of times.\n",
    "    \n",
    "    This uses the well known alogorithm of string multiplication\n",
    "    by GvR et al.\n",
    "    \n",
    "    Parameters\n",
    "    ----------\n",
    "    phrase : str\n",
    "        The phrase to repat\n",
    "    n_times : int, optional\n",
    "        The number of times the phrase should be repeated\n",
    "    sep : str, optional\n",
    "        The separator between each repetition\n",
    "        \n",
    "    Returns\n",
    "    -------\n",
    "    str\n",
    "        The repeated phrase\n",
    "        \n",
    "    Raises\n",
    "    ------\n",
    "    ValueError\n",
    "        When ``phrase`` is not a string\n",
    "    \"\"\"\n",
    "    \n",
    "    if not isinstance(phrase, str):\n",
    "        raise ValueError('phrase should be a string!')\n",
    "    return sep.join([phrase] * n_times)"
   ]
  },
  {
   "cell_type": "markdown",
   "metadata": {},
   "source": [
    "[Docstrings](https://www.python.org/dev/peps/pep-0257/#what-is-a-docstring) have a special meaning in python. They are not used by the language itself, but python offers way to deal with them:"
   ]
  },
  {
   "cell_type": "code",
   "execution_count": null,
   "metadata": {},
   "outputs": [],
   "source": [
    "print(repeat.__doc__)"
   ]
  },
  {
   "cell_type": "markdown",
   "metadata": {},
   "source": [
    "The dosctring is also read by ipython when calling help (``?``) on a function.\n",
    "\n",
    "There are no strict rules about how docstrings should be written, but the scientific community has more or less agreed on a convention: [numpydoc](https://numpydoc.readthedocs.io/en/latest/format.html), first written for python and then applied by many other projects in the scientific stack. By complying to this convention you'll make the job of your readers easier.\n",
    "\n",
    "The convention describes how to describe the input and output variables type as well as other information. More importantly, it can be parsed automatically by doc generators like Sphinx (see below). \n",
    "\n",
    "I highly recommend to write numpydoc docstrings for your projects. There is one exception to this recommendation though: **write docstrings only if they are accurate and if you plan to maintain them**. Indeed, **wrong/false documentation is worse than no documentation at all**: it gives others confidence in what your function is supposed to do (a \"contract\"), and if you not complying to this contract will lead to bugs and deceptions.  "
   ]
  },
  {
   "cell_type": "markdown",
   "metadata": {},
   "source": [
    "## Documentation generators"
   ]
  },
  {
   "cell_type": "markdown",
   "metadata": {},
   "source": [
    "Writing documentation is hard and tedious. It is a task that most people want to avoid, but it is extremely important. In particular in the python world where almost everything is open-source and based on the work of volunteers, documentation might sometimes be neglected.\n",
    "\n",
    "Fortunately, some tools make it easier for open-source programmers to write documentation."
   ]
  },
  {
   "cell_type": "markdown",
   "metadata": {},
   "source": [
    "### Sphinx"
   ]
  },
  {
   "cell_type": "markdown",
   "metadata": {
    "slideshow": {
     "slide_type": "slide"
    }
   },
   "source": [
    "[Shpinx](http://www.sphinx-doc.org/) is a tool that makes it easy to create intelligent and beautiful documentation.It can parse your documentation written as text files and convert them to nice, engaging html websites. Importantly, sphinx can parse python code and write an API documentation automatically. \n",
    "\n",
    "Many open-source projects use sphinx for their documentation, including numpy and xarray. In the lecture we will make a demo of sphinx by building the xarray documentation locally."
   ]
  },
  {
   "cell_type": "markdown",
   "metadata": {},
   "source": [
    "### ReadTheDocs "
   ]
  },
  {
   "cell_type": "markdown",
   "metadata": {},
   "source": [
    "[readthedocs.org](https://readthedocs.org/) is a platform hosting the documentation of open-source projects *for free*. It build the documentation website using sphinx and actualizes it at each code update. The documentation of the [Open Global Glacier Model](http://oggm.readthedocs.io/en/latest/) or [xarray](http://xarray.pydata.org/) are hosted on ReadTheDocs."
   ]
  },
  {
   "cell_type": "markdown",
   "metadata": {},
   "source": [
    "## Take home points "
   ]
  },
  {
   "cell_type": "markdown",
   "metadata": {},
   "source": [
    "- write inline comments (always), but write them in a useful way (you will be thanking yourself for this later)\n",
    "- write function docstrings, but only if you plan to take care of them\n",
    "- no documentation is better than wrong documentation, but a good documentation is far better than no documentation"
   ]
  },
  {
   "cell_type": "markdown",
   "metadata": {},
   "source": [
    "## What's next? "
   ]
  },
  {
   "cell_type": "markdown",
   "metadata": {},
   "source": [
    "Back to the [table of contents](00-Introduction.ipynb#ctoc), or [jump to the next chapter](28-Open-source.ipynb)."
   ]
  }
 ],
 "metadata": {
  "hide_input": false,
  "kernelspec": {
   "display_name": "Python 3",
   "language": "python",
   "name": "python3"
  },
  "language_info": {
   "codemirror_mode": {
    "name": "ipython",
    "version": 3
   },
   "file_extension": ".py",
   "mimetype": "text/x-python",
   "name": "python",
   "nbconvert_exporter": "python",
   "pygments_lexer": "ipython3",
   "version": "3.5.2"
  },
  "toc": {
   "base_numbering": "27",
   "nav_menu": {},
   "number_sections": true,
   "sideBar": true,
   "skip_h1_title": false,
   "title_cell": "Table of Contents",
   "title_sidebar": "Contents",
   "toc_cell": true,
   "toc_position": {
    "height": "750px",
    "left": "29px",
    "top": "111px",
    "width": "310px"
   },
   "toc_section_display": true,
   "toc_window_display": true
  }
 },
 "nbformat": 4,
 "nbformat_minor": 2
}
