{
 "cells": [
  {
   "cell_type": "markdown",
   "metadata": {},
   "source": [
    "# Assignment #08: a file writer class"
   ]
  },
  {
   "cell_type": "markdown",
   "metadata": {},
   "source": [
    "Getting aquainted with the concepts of Object Oriented Programming by developing a writer class."
   ]
  },
  {
   "cell_type": "markdown",
   "metadata": {},
   "source": [
    "## Assignment #08-01: an HTML writer"
   ]
  },
  {
   "cell_type": "markdown",
   "metadata": {},
   "source": [
    "HTML files have a relatively simple structure. Here is an example:\n",
    "\n",
    "```html\n",
    "<!DOCTYPE html>\n",
    "<html>\n",
    "<body>\n",
    "\n",
    "<h1>A large title</h1>\n",
    "\n",
    "<h2>A smaller title</h2>\n",
    "\n",
    "<p>\n",
    "A paragraph with more or less text. Rather less.\n",
    "</p>\n",
    " \n",
    "<img alt=\"Image not found\" src=\"/path/to/some/image.png\">\n",
    "\n",
    "\n",
    "<h2>Another smaller title</h2>\n",
    "\n",
    "<p>\n",
    "Another paragraph with more or less text. It depends on your mood.\n",
    "</p>\n",
    "\n",
    "</body>\n",
    "</html>\n",
    "```"
   ]
  },
  {
   "cell_type": "markdown",
   "metadata": {},
   "source": [
    "Your task is to write an ``HTMLFile`` class, which will help you to write such files in python. At instantiation, the ``HTMLFile`` class must accept a path to a file which will be created or overwritten by the object. The path must be ending with ``.html``, otherwise the ``__init__`` method should raise an error. The class must define the following instance methods:\n",
    "\n",
    "- ``add_title``, which adds a title to the file. The size of the title must be specified with a keyword argument.\n",
    "- ``add_paragraph``, which add a paragraph to the file.\n",
    "- ``add_image``, which adds an image command to the file.\n",
    "- ``end_file``, which writes the closing lines of the file.\n",
    "- ``display_html``, which opens the file in your browser.\n",
    "\n",
    "The class should define a new property, ``n_lines``, which returns the number of lines of the html file."
   ]
  },
  {
   "cell_type": "markdown",
   "metadata": {},
   "source": [
    "For example, the following code should write the template above and print the total number of lines:\n",
    "\n",
    "```python\n",
    "file = HTMLFile('my_template.html')\n",
    "file.add_title('A large title')\n",
    "file.add_title('A smaller title', small=True)\n",
    "file.add_paragraph('A paragraph with more or less text. Rather less.')\n",
    "file.add_image('/path/to/some/image.png', alt='Image not found')\n",
    "file.add_title('Another smaller title', small=True)\n",
    "file.add_paragraph('Another paragraph with more or less text. It depends on your mood.')\n",
    "file.end_file()\n",
    "print(file.n_lines)\n",
    "```"
   ]
  },
  {
   "cell_type": "markdown",
   "metadata": {},
   "source": [
    "**Tips: for now, I suggest to open and close the text file at each function call (ideally by using the ``with`` syntax). Next week I might show you how to do it in a more elegant way.**"
   ]
  },
  {
   "cell_type": "markdown",
   "metadata": {},
   "source": [
    "## Assignment #08-02 (OPTIONAL): a Markdown writer"
   ]
  },
  {
   "cell_type": "markdown",
   "metadata": {},
   "source": [
    "[markdown](https://en.wikipedia.org/wiki/Markdown) is a lightweight mark-up language which is widely used to write simplified files which are then converted to HTML with an external tool (in fact, this is *exactly* what the Jupyter Notebook is doing). The HTML template above can be simplified in markdown to: \n",
    "\n",
    "```\n",
    "# A large title\n",
    "\n",
    "## A smaller title\n",
    "\n",
    "A paragraph with more or less text. Rather less.\n",
    "\n",
    "![Image not found](/path/to/some/image.png)\n",
    "\n",
    "## Another smaller title\n",
    "\n",
    "Another paragraph with more or less text. It depends on your mood.\n",
    "```"
   ]
  },
  {
   "cell_type": "markdown",
   "metadata": {},
   "source": [
    "Write a ``MarkdownFile`` which works much like the ``HTMLFile`` class. Both classes must inherit from a ``FileWriter`` class, which must take care of the file handling logic common to both classes."
   ]
  },
  {
   "cell_type": "markdown",
   "metadata": {},
   "source": [
    "*Back to the [table of contents](00-Introduction.ipynb#ctoc)*"
   ]
  }
 ],
 "metadata": {
  "hide_input": false,
  "kernelspec": {
   "display_name": "Python 3",
   "language": "python",
   "name": "python3"
  },
  "language_info": {
   "codemirror_mode": {
    "name": "ipython",
    "version": 3
   },
   "file_extension": ".py",
   "mimetype": "text/x-python",
   "name": "python",
   "nbconvert_exporter": "python",
   "pygments_lexer": "ipython3",
   "version": "3.5.2"
  },
  "toc": {
   "base_numbering": 1,
   "nav_menu": {},
   "number_sections": false,
   "sideBar": true,
   "skip_h1_title": false,
   "title_cell": "Table of Contents",
   "title_sidebar": "Contents",
   "toc_cell": false,
   "toc_position": {},
   "toc_section_display": "block",
   "toc_window_display": false
  }
 },
 "nbformat": 4,
 "nbformat_minor": 2
}
